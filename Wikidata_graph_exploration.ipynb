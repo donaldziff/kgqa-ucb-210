{
 "cells": [
  {
   "cell_type": "code",
   "execution_count": 1,
   "metadata": {
    "scrolled": true
   },
   "outputs": [
    {
     "name": "stdout",
     "output_type": "stream",
     "text": [
      "Collecting qwikidata\n",
      "  Downloading qwikidata-0.4.2.tar.gz (22 kB)\n",
      "  Preparing metadata (setup.py) ... \u001b[?25ldone\n",
      "\u001b[?25hRequirement already satisfied: mypy-extensions in /Users/anniecui/opt/anaconda3/lib/python3.8/site-packages (from qwikidata) (0.4.3)\n",
      "Requirement already satisfied: requests in /Users/anniecui/opt/anaconda3/lib/python3.8/site-packages (from qwikidata) (2.24.0)\n",
      "Requirement already satisfied: certifi>=2017.4.17 in /Users/anniecui/opt/anaconda3/lib/python3.8/site-packages (from requests->qwikidata) (2020.6.20)\n",
      "Requirement already satisfied: chardet<4,>=3.0.2 in /Users/anniecui/opt/anaconda3/lib/python3.8/site-packages (from requests->qwikidata) (3.0.4)\n",
      "Requirement already satisfied: urllib3!=1.25.0,!=1.25.1,<1.26,>=1.21.1 in /Users/anniecui/opt/anaconda3/lib/python3.8/site-packages (from requests->qwikidata) (1.25.9)\n",
      "Requirement already satisfied: idna<3,>=2.5 in /Users/anniecui/opt/anaconda3/lib/python3.8/site-packages (from requests->qwikidata) (2.10)\n",
      "Building wheels for collected packages: qwikidata\n",
      "  Building wheel for qwikidata (setup.py) ... \u001b[?25ldone\n",
      "\u001b[?25h  Created wheel for qwikidata: filename=qwikidata-0.4.2-py3-none-any.whl size=24887 sha256=7dd4a790d0f6605edde03eabee7469d6c5a4258fea0eb8b85b136e9a971da5cc\n",
      "  Stored in directory: /Users/anniecui/Library/Caches/pip/wheels/d1/b7/40/2d770bcce10a8ea528db49a82279e479f33043462509de7b7f\n",
      "Successfully built qwikidata\n",
      "Installing collected packages: qwikidata\n",
      "Successfully installed qwikidata-0.4.2\n",
      "\u001b[33mWARNING: There was an error checking the latest version of pip.\u001b[0m\u001b[33m\n",
      "\u001b[0m"
     ]
    }
   ],
   "source": [
    "!pip install qwikidata\n",
    "pip install rdflib"
   ]
  },
  {
   "cell_type": "markdown",
   "metadata": {},
   "source": [
    "### Using Qwikidata package to extract subclasses and info about wikidata objects"
   ]
  },
  {
   "cell_type": "code",
   "execution_count": 2,
   "metadata": {
    "scrolled": true
   },
   "outputs": [],
   "source": [
    "import qwikidata \n",
    "from qwikidata.linked_data_interface import get_entity_dict_from_api\n",
    "from qwikidata.entity import WikidataItem, WikidataProperty, WikidataLexeme\n",
    "from qwikidata.sparql import get_subclasses_of_item, return_sparql_query_results\n"
   ]
  },
  {
   "cell_type": "code",
   "execution_count": 4,
   "metadata": {
    "scrolled": true
   },
   "outputs": [
    {
     "data": {
      "text/plain": [
       "{'head': {'vars': ['sbj', 'sbj_label']},\n",
       " 'results': {'bindings': [{'sbj': {'type': 'uri',\n",
       "     'value': 'http://www.wikidata.org/entity/Q157661'},\n",
       "    'sbj_label': {'xml:lang': 'en',\n",
       "     'type': 'literal',\n",
       "     'value': 'hepatitis A'}},\n",
       "   {'sbj': {'type': 'uri', 'value': 'http://www.wikidata.org/entity/Q6853'},\n",
       "    'sbj_label': {'xml:lang': 'en',\n",
       "     'type': 'literal',\n",
       "     'value': 'hepatitis B'}},\n",
       "   {'sbj': {'type': 'uri', 'value': 'http://www.wikidata.org/entity/Q154869'},\n",
       "    'sbj_label': {'xml:lang': 'en',\n",
       "     'type': 'literal',\n",
       "     'value': 'hepatitis C'}}]}}"
      ]
     },
     "execution_count": 4,
     "metadata": {},
     "output_type": "execute_result"
    }
   ],
   "source": [
    "sparql_query = \"\"\"\n",
    "SELECT DISTINCT ?sbj ?sbj_label\n",
    "WHERE { ?sbj wdt:P31 wd:Q18123741 . \n",
    "?sbj wdt:P689 wd:Q9368 . ?sbj rdfs:label ?sbj_label . \n",
    "FILTER(STRSTARTS(lcase(?sbj_label), 'h')) . FILTER (lang(?sbj_label) = 'en') }\n",
    "\"\"\"\n",
    "res = return_sparql_query_results(sparql_query)\n",
    "res"
   ]
  },
  {
   "cell_type": "code",
   "execution_count": 8,
   "metadata": {
    "scrolled": true
   },
   "outputs": [
    {
     "data": {
      "text/plain": [
       "WikidataItem(label=hepatitis A, id=Q157661, description=acute infectious disease of the liver, aliases=['Viral hepatitis, type A', 'Viral hepatitis A', 'hepatitis type A', 'Hepatitis A Infection'], enwiki_title=Hepatitis A)"
      ]
     },
     "execution_count": 8,
     "metadata": {},
     "output_type": "execute_result"
    }
   ],
   "source": [
    "# create a lexeme representing Hepatitis A\n",
    "entity = \"Q157661\"\n",
    "q_dict = get_entity_dict_from_api(entity)\n",
    "q = WikidataItem(q_dict)\n",
    "q"
   ]
  },
  {
   "cell_type": "code",
   "execution_count": null,
   "metadata": {},
   "outputs": [],
   "source": [
    "### Use RDFlib to create a graph for wikidata object"
   ]
  },
  {
   "cell_type": "code",
   "execution_count": 12,
   "metadata": {
    "scrolled": false
   },
   "outputs": [
    {
     "data": {
      "text/plain": [
       "['_Graph__identifier',\n",
       " '_Graph__namespace_manager',\n",
       " '_Graph__store',\n",
       " '__add__',\n",
       " '__and__',\n",
       " '__class__',\n",
       " '__cmp__',\n",
       " '__contains__',\n",
       " '__delattr__',\n",
       " '__dict__',\n",
       " '__dir__',\n",
       " '__doc__',\n",
       " '__eq__',\n",
       " '__format__',\n",
       " '__ge__',\n",
       " '__getattribute__',\n",
       " '__getitem__',\n",
       " '__gt__',\n",
       " '__hash__',\n",
       " '__iadd__',\n",
       " '__init__',\n",
       " '__init_subclass__',\n",
       " '__isub__',\n",
       " '__iter__',\n",
       " '__le__',\n",
       " '__len__',\n",
       " '__lt__',\n",
       " '__module__',\n",
       " '__mul__',\n",
       " '__ne__',\n",
       " '__new__',\n",
       " '__or__',\n",
       " '__reduce__',\n",
       " '__reduce_ex__',\n",
       " '__repr__',\n",
       " '__setattr__',\n",
       " '__sizeof__',\n",
       " '__slots__',\n",
       " '__str__',\n",
       " '__sub__',\n",
       " '__subclasshook__',\n",
       " '__weakref__',\n",
       " '__xor__',\n",
       " '_bind_namespaces',\n",
       " '_process_skolem_tuples',\n",
       " 'absolutize',\n",
       " 'add',\n",
       " 'addN',\n",
       " 'all_nodes',\n",
       " 'base',\n",
       " 'bind',\n",
       " 'cbd',\n",
       " 'close',\n",
       " 'collection',\n",
       " 'commit',\n",
       " 'compute_qname',\n",
       " 'connected',\n",
       " 'context_aware',\n",
       " 'de_skolemize',\n",
       " 'default_union',\n",
       " 'destroy',\n",
       " 'formula_aware',\n",
       " 'identifier',\n",
       " 'isomorphic',\n",
       " 'items',\n",
       " 'n3',\n",
       " 'namespace_manager',\n",
       " 'namespaces',\n",
       " 'objects',\n",
       " 'open',\n",
       " 'parse',\n",
       " 'predicate_objects',\n",
       " 'predicates',\n",
       " 'print',\n",
       " 'qname',\n",
       " 'query',\n",
       " 'remove',\n",
       " 'resource',\n",
       " 'rollback',\n",
       " 'serialize',\n",
       " 'set',\n",
       " 'skolemize',\n",
       " 'store',\n",
       " 'subject_objects',\n",
       " 'subject_predicates',\n",
       " 'subjects',\n",
       " 'toPython',\n",
       " 'transitiveClosure',\n",
       " 'transitive_objects',\n",
       " 'transitive_subjects',\n",
       " 'triples',\n",
       " 'triples_choices',\n",
       " 'update',\n",
       " 'value']"
      ]
     },
     "execution_count": 12,
     "metadata": {},
     "output_type": "execute_result"
    }
   ],
   "source": [
    "from rdflib import Graph\n",
    "g = Graph()\n",
    "g.parse('https://www.wikidata.org/wiki/Special:EntityData/Q157661.nt', format=\"nt\")    \n",
    "#for subj, pred, obj in g:\n",
    "#    print(subj, pred, obj)\n",
    "\n",
    "dir(g)"
   ]
  },
  {
   "cell_type": "code",
   "execution_count": null,
   "metadata": {
    "scrolled": true
   },
   "outputs": [],
   "source": []
  }
 ],
 "metadata": {
  "kernelspec": {
   "display_name": "Python 3",
   "language": "python",
   "name": "python3"
  },
  "language_info": {
   "codemirror_mode": {
    "name": "ipython",
    "version": 3
   },
   "file_extension": ".py",
   "mimetype": "text/x-python",
   "name": "python",
   "nbconvert_exporter": "python",
   "pygments_lexer": "ipython3",
   "version": "3.8.3"
  }
 },
 "nbformat": 4,
 "nbformat_minor": 4
}
