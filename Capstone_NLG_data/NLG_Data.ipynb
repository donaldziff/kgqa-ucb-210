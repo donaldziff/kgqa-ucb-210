{
 "cells": [
  {
   "cell_type": "code",
   "execution_count": 1,
   "metadata": {},
   "outputs": [],
   "source": [
    "import pandas as pd\n",
    "import numpy as np"
   ]
  },
  {
   "cell_type": "code",
   "execution_count": 4,
   "metadata": {},
   "outputs": [],
   "source": [
    "\"\"\"\n",
    "This is data from PersonageNLG: Style in NLG\n",
    "The PersonageNLG corpus is a set of 88,000 meaning representation to\n",
    "natural language utterance pairs in the restaurant domain (train) and 1,390 pairs (test),\n",
    "\"\"\"\n",
    "\n",
    "personality_df = pd.read_csv(\"personage-nlg-train.csv\")"
   ]
  },
  {
   "cell_type": "code",
   "execution_count": 5,
   "metadata": {},
   "outputs": [],
   "source": [
    "\"\"\"\n",
    "Restaurant domain\n",
    "NLG dataset from The {E2E} Dataset: New Challenges for End-to-End Generation\n",
    "url: https://arxiv.org/abs/1706.09254}\n",
    "\n",
    "mr – textual meaning representation (MR)\n",
    "ref – corresponding natural language utterance (human reference)\n",
    "\"\"\"\n",
    "\n",
    "e2e_df = pd.read_csv(\"NLG_E2E_Compositional.csv\")"
   ]
  },
  {
   "cell_type": "code",
   "execution_count": null,
   "metadata": {},
   "outputs": [],
   "source": []
  }
 ],
 "metadata": {
  "kernelspec": {
   "display_name": "Python 3",
   "language": "python",
   "name": "python3"
  },
  "language_info": {
   "codemirror_mode": {
    "name": "ipython",
    "version": 3
   },
   "file_extension": ".py",
   "mimetype": "text/x-python",
   "name": "python",
   "nbconvert_exporter": "python",
   "pygments_lexer": "ipython3",
   "version": "3.8.3"
  }
 },
 "nbformat": 4,
 "nbformat_minor": 4
}
