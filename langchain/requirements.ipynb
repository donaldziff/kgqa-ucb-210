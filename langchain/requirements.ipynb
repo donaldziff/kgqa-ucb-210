{
 "cells": [
  {
   "cell_type": "code",
   "execution_count": 1,
   "id": "17e8a5a1-cc83-49ec-a1d6-77b0d611431e",
   "metadata": {},
   "outputs": [
    {
     "name": "stdout",
     "output_type": "stream",
     "text": [
      "Looking in indexes: https://artifactory.concurtech.net/artifactory/api/pypi/pypi.python.org/simple, https://artifactory.concurtech.net/artifactory/api/pypi/ext-pypi-selfserve-local/simple\n",
      "Collecting langchain\n",
      "  Using cached https://artifactory.concurtech.net/artifactory/api/pypi/pypi.python.org/packages/packages/d8/10/6b2b1d84003f43839d4d65da390f6a7d5876c929071330ea3f948d7c5ce3/langchain-0.0.126-py3-none-any.whl (450 kB)\n",
      "Requirement already satisfied: PyYAML>=5.4.1 in /opt/homebrew/anaconda3/envs/conda210/lib/python3.9/site-packages (from langchain) (6.0)\n",
      "Requirement already satisfied: aiohttp<4.0.0,>=3.8.3 in /opt/homebrew/anaconda3/envs/conda210/lib/python3.9/site-packages (from langchain) (3.8.4)\n",
      "Requirement already satisfied: requests<3,>=2 in /opt/homebrew/anaconda3/envs/conda210/lib/python3.9/site-packages (from langchain) (2.28.1)\n",
      "Requirement already satisfied: numpy<2,>=1 in /opt/homebrew/anaconda3/envs/conda210/lib/python3.9/site-packages (from langchain) (1.24.2)\n",
      "Collecting dataclasses-json<0.6.0,>=0.5.7\n",
      "  Using cached https://artifactory.concurtech.net/artifactory/api/pypi/pypi.python.org/packages/packages/58/7e/2042610dfc8121e8119ad8b94db496d8697e4b0ef7a6e378018a2bd84435/dataclasses_json-0.5.7-py3-none-any.whl (25 kB)\n",
      "Collecting pydantic<2,>=1\n",
      "  Using cached https://artifactory.concurtech.net/artifactory/api/pypi/pypi.python.org/packages/packages/00/43/f15d991ce715a2e7a229ef7c2534527d6fe4e5d260a675bd06615a4ede82/pydantic-1.10.7-cp39-cp39-macosx_11_0_arm64.whl (2.6 MB)\n",
      "Collecting boto3<2.0.0,>=1.26.96\n",
      "  Using cached https://artifactory.concurtech.net/artifactory/api/pypi/pypi.python.org/packages/packages/da/85/c13715a7dbfd42cb6dcded61d3cdc197d1da5bdcb21229e56341574dae5a/boto3-1.26.101-py3-none-any.whl (135 kB)\n",
      "Collecting pyowm<4.0.0,>=3.3.0\n",
      "  Using cached https://artifactory.concurtech.net/artifactory/api/pypi/pypi.python.org/packages/packages/6e/88/1279817aa7f5988a2ff42a6755fd371f3c1806aca377cb63b3d16684b174/pyowm-3.3.0-py3-none-any.whl (4.5 MB)\n",
      "Requirement already satisfied: tenacity<9.0.0,>=8.1.0 in /opt/homebrew/anaconda3/envs/conda210/lib/python3.9/site-packages (from langchain) (8.2.2)\n",
      "Collecting SQLAlchemy<2,>=1\n",
      "  Using cached https://artifactory.concurtech.net/artifactory/api/pypi/pypi.python.org/packages/packages/a0/08/3e8923b1094b61736960dc372633b0dfddbf2e12f5a0b8dd1203f7dcc8f7/SQLAlchemy-1.4.47.tar.gz (8.6 MB)\n",
      "  Preparing metadata (setup.py) ... \u001b[?25ldone\n",
      "\u001b[?25hRequirement already satisfied: charset-normalizer<4.0,>=2.0 in /opt/homebrew/anaconda3/envs/conda210/lib/python3.9/site-packages (from aiohttp<4.0.0,>=3.8.3->langchain) (2.0.4)\n",
      "Requirement already satisfied: async-timeout<5.0,>=4.0.0a3 in /opt/homebrew/anaconda3/envs/conda210/lib/python3.9/site-packages (from aiohttp<4.0.0,>=3.8.3->langchain) (4.0.2)\n",
      "Requirement already satisfied: frozenlist>=1.1.1 in /opt/homebrew/anaconda3/envs/conda210/lib/python3.9/site-packages (from aiohttp<4.0.0,>=3.8.3->langchain) (1.3.3)\n",
      "Requirement already satisfied: attrs>=17.3.0 in /opt/homebrew/anaconda3/envs/conda210/lib/python3.9/site-packages (from aiohttp<4.0.0,>=3.8.3->langchain) (22.1.0)\n",
      "Requirement already satisfied: aiosignal>=1.1.2 in /opt/homebrew/anaconda3/envs/conda210/lib/python3.9/site-packages (from aiohttp<4.0.0,>=3.8.3->langchain) (1.3.1)\n",
      "Requirement already satisfied: multidict<7.0,>=4.5 in /opt/homebrew/anaconda3/envs/conda210/lib/python3.9/site-packages (from aiohttp<4.0.0,>=3.8.3->langchain) (6.0.4)\n",
      "Requirement already satisfied: yarl<2.0,>=1.0 in /opt/homebrew/anaconda3/envs/conda210/lib/python3.9/site-packages (from aiohttp<4.0.0,>=3.8.3->langchain) (1.8.2)\n",
      "Collecting s3transfer<0.7.0,>=0.6.0\n",
      "  Using cached https://artifactory.concurtech.net/artifactory/api/pypi/pypi.python.org/packages/packages/5e/c6/af903b5fab3f9b5b1e883f49a770066314c6dcceb589cf938d48c89556c1/s3transfer-0.6.0-py3-none-any.whl (79 kB)\n",
      "Collecting jmespath<2.0.0,>=0.7.1\n",
      "  Using cached https://artifactory.concurtech.net/artifactory/api/pypi/pypi.python.org/packages/packages/31/b4/b9b800c45527aadd64d5b442f9b932b00648617eb5d63d2c7a6587b7cafc/jmespath-1.0.1-py3-none-any.whl (20 kB)\n",
      "Collecting botocore<1.30.0,>=1.29.101\n",
      "  Using cached https://artifactory.concurtech.net/artifactory/api/pypi/pypi.python.org/packages/packages/ec/d2/492aa04249f0726480d7c53437c102c7538f380c4f36b239bb80321b0b37/botocore-1.29.102-py3-none-any.whl (10.6 MB)\n",
      "Collecting marshmallow<4.0.0,>=3.3.0\n",
      "  Using cached https://artifactory.concurtech.net/artifactory/api/pypi/pypi.python.org/packages/packages/ae/53/980a20d789029329fdf1546c315f9c92bf862c7f3e7294e3667afcc464f5/marshmallow-3.19.0-py3-none-any.whl (49 kB)\n",
      "Collecting marshmallow-enum<2.0.0,>=1.5.1\n",
      "  Using cached https://artifactory.concurtech.net/artifactory/api/pypi/pypi.python.org/packages/packages/c6/59/ef3a3dc499be447098d4a89399beb869f813fee1b5a57d5d79dee2c1bf51/marshmallow_enum-1.5.1-py2.py3-none-any.whl (4.2 kB)\n",
      "Collecting typing-inspect>=0.4.0\n",
      "  Using cached https://artifactory.concurtech.net/artifactory/api/pypi/pypi.python.org/packages/packages/be/01/59b743dca816c4b6ca891b9e0f84d20513cd61bdbbaa8615de8f5aab68c1/typing_inspect-0.8.0-py3-none-any.whl (8.7 kB)\n",
      "Requirement already satisfied: typing-extensions>=4.2.0 in /opt/homebrew/anaconda3/envs/conda210/lib/python3.9/site-packages (from pydantic<2,>=1->langchain) (4.4.0)\n",
      "Requirement already satisfied: PySocks<2,>=1.7.1 in /opt/homebrew/anaconda3/envs/conda210/lib/python3.9/site-packages (from pyowm<4.0.0,>=3.3.0->langchain) (1.7.1)\n",
      "Collecting geojson<3,>=2.3.0\n",
      "  Using cached https://artifactory.concurtech.net/artifactory/api/pypi/pypi.python.org/packages/packages/e4/8d/9e28e9af95739e6d2d2f8d4bef0b3432da40b7c3588fbad4298c1be09e48/geojson-2.5.0-py2.py3-none-any.whl (14 kB)\n",
      "Requirement already satisfied: idna<4,>=2.5 in /opt/homebrew/anaconda3/envs/conda210/lib/python3.9/site-packages (from requests<3,>=2->langchain) (3.4)\n",
      "Requirement already satisfied: urllib3<1.27,>=1.21.1 in /opt/homebrew/anaconda3/envs/conda210/lib/python3.9/site-packages (from requests<3,>=2->langchain) (1.26.14)\n",
      "Requirement already satisfied: certifi>=2017.4.17 in /opt/homebrew/anaconda3/envs/conda210/lib/python3.9/site-packages (from requests<3,>=2->langchain) (2022.12.7)\n",
      "Requirement already satisfied: python-dateutil<3.0.0,>=2.1 in /opt/homebrew/anaconda3/envs/conda210/lib/python3.9/site-packages (from botocore<1.30.0,>=1.29.101->boto3<2.0.0,>=1.26.96->langchain) (2.8.2)\n",
      "Requirement already satisfied: packaging>=17.0 in /opt/homebrew/anaconda3/envs/conda210/lib/python3.9/site-packages (from marshmallow<4.0.0,>=3.3.0->dataclasses-json<0.6.0,>=0.5.7->langchain) (22.0)\n",
      "Collecting mypy-extensions>=0.3.0\n",
      "  Using cached https://artifactory.concurtech.net/artifactory/api/pypi/pypi.python.org/packages/packages/2a/e2/5d3f6ada4297caebe1a2add3b126fe800c96f56dbe5d1988a2cbe0b267aa/mypy_extensions-1.0.0-py3-none-any.whl (4.7 kB)\n",
      "Requirement already satisfied: six>=1.5 in /opt/homebrew/anaconda3/envs/conda210/lib/python3.9/site-packages (from python-dateutil<3.0.0,>=2.1->botocore<1.30.0,>=1.29.101->boto3<2.0.0,>=1.26.96->langchain) (1.16.0)\n",
      "Building wheels for collected packages: SQLAlchemy\n",
      "  Building wheel for SQLAlchemy (setup.py) ... \u001b[?25ldone\n",
      "\u001b[?25h  Created wheel for SQLAlchemy: filename=SQLAlchemy-1.4.47-cp39-cp39-macosx_11_0_arm64.whl size=1562297 sha256=451aa42ee9a251c4d95833bc417ce59d511ef44447d1be1904f8f1393c812fdc\n",
      "  Stored in directory: /Users/i857913/Library/Caches/pip/wheels/59/49/fc/52e9dce571aabf7de3e4395d0b502d3e41eed31f3985b88250\n",
      "Successfully built SQLAlchemy\n",
      "Installing collected packages: geojson, SQLAlchemy, pydantic, mypy-extensions, marshmallow, jmespath, typing-inspect, marshmallow-enum, botocore, s3transfer, pyowm, dataclasses-json, boto3, langchain\n",
      "Successfully installed SQLAlchemy-1.4.47 boto3-1.26.101 botocore-1.29.102 dataclasses-json-0.5.7 geojson-2.5.0 jmespath-1.0.1 langchain-0.0.126 marshmallow-3.19.0 marshmallow-enum-1.5.1 mypy-extensions-1.0.0 pydantic-1.10.7 pyowm-3.3.0 s3transfer-0.6.0 typing-inspect-0.8.0\n"
     ]
    }
   ],
   "source": [
    "!pip install langchain\n"
   ]
  },
  {
   "cell_type": "code",
   "execution_count": 2,
   "id": "b5f5c610-b9bc-42b6-b30a-61130f96930c",
   "metadata": {},
   "outputs": [],
   "source": [
    "import langchain\n"
   ]
  },
  {
   "cell_type": "code",
   "execution_count": 3,
   "id": "6e8ee3cf-9b56-48ab-843c-8b2d46032709",
   "metadata": {},
   "outputs": [
    {
     "name": "stdout",
     "output_type": "stream",
     "text": [
      "Looking in indexes: https://artifactory.concurtech.net/artifactory/api/pypi/pypi.python.org/simple, https://artifactory.concurtech.net/artifactory/api/pypi/ext-pypi-selfserve-local/simple\n",
      "Collecting google-search-results\n",
      "  Downloading https://artifactory.concurtech.net/artifactory/api/pypi/pypi.python.org/packages/packages/77/30/b3a6f6a2e00f8153549c2fa345c58ae1ce8e5f3153c2fe0484d444c3abcb/google_search_results-2.4.2.tar.gz (18 kB)\n",
      "  Preparing metadata (setup.py) ... \u001b[?25ldone\n",
      "\u001b[?25hRequirement already satisfied: requests in /opt/homebrew/anaconda3/envs/conda210/lib/python3.9/site-packages (from google-search-results) (2.28.1)\n",
      "Requirement already satisfied: certifi>=2017.4.17 in /opt/homebrew/anaconda3/envs/conda210/lib/python3.9/site-packages (from requests->google-search-results) (2022.12.7)\n",
      "Requirement already satisfied: urllib3<1.27,>=1.21.1 in /opt/homebrew/anaconda3/envs/conda210/lib/python3.9/site-packages (from requests->google-search-results) (1.26.14)\n",
      "Requirement already satisfied: charset-normalizer<3,>=2 in /opt/homebrew/anaconda3/envs/conda210/lib/python3.9/site-packages (from requests->google-search-results) (2.0.4)\n",
      "Requirement already satisfied: idna<4,>=2.5 in /opt/homebrew/anaconda3/envs/conda210/lib/python3.9/site-packages (from requests->google-search-results) (3.4)\n",
      "Building wheels for collected packages: google-search-results\n",
      "  Building wheel for google-search-results (setup.py) ... \u001b[?25ldone\n",
      "\u001b[?25h  Created wheel for google-search-results: filename=google_search_results-2.4.2-py3-none-any.whl size=32003 sha256=e01bdf320d876b82a378387ae8fb769dec61cb6a5568c732c9cc083c3c1e446d\n",
      "  Stored in directory: /Users/i857913/Library/Caches/pip/wheels/03/64/04/d6ab728dee5cb5de20f8713ff4415352a3d13fb5cf73be90bb\n",
      "Successfully built google-search-results\n",
      "Installing collected packages: google-search-results\n",
      "Successfully installed google-search-results-2.4.2\n"
     ]
    }
   ],
   "source": [
    "!pip install  google-search-results"
   ]
  },
  {
   "cell_type": "code",
   "execution_count": 4,
   "id": "7a2c17f9-f89b-443e-a62c-4ee194127d77",
   "metadata": {},
   "outputs": [
    {
     "name": "stdout",
     "output_type": "stream",
     "text": [
      "Looking in indexes: https://artifactory.concurtech.net/artifactory/api/pypi/pypi.python.org/simple, https://artifactory.concurtech.net/artifactory/api/pypi/ext-pypi-selfserve-local/simple\n",
      "Collecting python-dotenv\n",
      "  Downloading https://artifactory.concurtech.net/artifactory/api/pypi/pypi.python.org/packages/packages/44/2f/62ea1c8b593f4e093cc1a7768f0d46112107e790c3e478532329e434f00b/python_dotenv-1.0.0-py3-none-any.whl (19 kB)\n",
      "Installing collected packages: python-dotenv\n",
      "Successfully installed python-dotenv-1.0.0\n",
      "Note: you may need to restart the kernel to use updated packages.\n"
     ]
    }
   ],
   "source": [
    "pip install python-dotenv"
   ]
  },
  {
   "cell_type": "code",
   "execution_count": null,
   "id": "b2f698cf-a0f2-4f86-be48-c880e158e8a8",
   "metadata": {},
   "outputs": [],
   "source": []
  }
 ],
 "metadata": {
  "kernelspec": {
   "display_name": "conda210",
   "language": "python",
   "name": "conda210"
  },
  "language_info": {
   "codemirror_mode": {
    "name": "ipython",
    "version": 3
   },
   "file_extension": ".py",
   "mimetype": "text/x-python",
   "name": "python",
   "nbconvert_exporter": "python",
   "pygments_lexer": "ipython3",
   "version": "3.9.16"
  }
 },
 "nbformat": 4,
 "nbformat_minor": 5
}
