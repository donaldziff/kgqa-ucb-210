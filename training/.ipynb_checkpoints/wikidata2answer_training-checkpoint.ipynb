{
 "cells": [
  {
   "cell_type": "code",
   "execution_count": null,
   "id": "1996aa6c",
   "metadata": {},
   "outputs": [],
   "source": [
    "import sys\n",
    "import os\n",
    "import time\n",
    "import re\n",
    "import random\n",
    "import gc\n",
    "\n",
    "from collections import Counter\n",
    "import numpy as np\n",
    "import torch\n",
    "from transformers import AutoTokenizer, T5ForConditionalGeneration, AutoModelForSeq2SeqLM, GPTJForQuestionAnswering\n",
    "from sklearn.model_selection import train_test_split, KFold, StratifiedKFold, cross_val_score\n",
    "from sklearn.metrics import accuracy_score, f1_score, precision_score, recall_score"
   ]
  },
  {
   "cell_type": "code",
   "execution_count": null,
   "id": "7c1b1755",
   "metadata": {},
   "outputs": [],
   "source": [
    "selection = \"t5-small\"\n",
    "tokenizer = AutoTokenizer.from_pretrained(selection)\n",
    "if selection==\"t5-small\":\n",
    "    model = T5ForConditionalGeneration.from_pretrained(\"t5-small\")\n",
    "elif selection==\"yazdipour/text-to-sparql-t5-base\":\n",
    "    model = AutoModelForSeq2SeqLM.from_pretrained(\"yazdipour/text-to-sparql-t5-base\")\n",
    "else:\n",
    "    model = GPTJForQuestionAnswering.from_pretrained(\"hf-internal-testing/tiny-random-gptj\")"
   ]
  }
 ],
 "metadata": {
  "kernelspec": {
   "display_name": "Python 3 (ipykernel)",
   "language": "python",
   "name": "python3"
  },
  "language_info": {
   "codemirror_mode": {
    "name": "ipython",
    "version": 3
   },
   "file_extension": ".py",
   "mimetype": "text/x-python",
   "name": "python",
   "nbconvert_exporter": "python",
   "pygments_lexer": "ipython3",
   "version": "3.10.2"
  }
 },
 "nbformat": 4,
 "nbformat_minor": 5
}
