{
 "cells": [
  {
   "cell_type": "markdown",
   "id": "759c2eed-b8c6-475c-9bc3-25d1b60956f6",
   "metadata": {},
   "source": [
    "# Training a gpt 3 model for nl2sparql\n",
    "Openai only supports fine-tuning on their gpt3 models: ada, babbage, curie and davinci. They do not yet support fine-tuning \n",
    "on gpt3.5 (aka chatGPT, aka \"gpt-3.5-turbo\"). This notebook examines the models for which fine-tuninig is available."
   ]
  },
  {
   "cell_type": "code",
   "execution_count": 51,
   "id": "d68ea383-c1c2-47f4-b220-38dde70c86c1",
   "metadata": {
    "tags": []
   },
   "outputs": [],
   "source": [
    "# pip install these as needed\n",
    "import openai\n",
    "import pandas as pd"
   ]
  },
  {
   "cell_type": "code",
   "execution_count": 66,
   "id": "f2c03fcf-e86c-4f79-bddb-5ee3ed909a78",
   "metadata": {
    "tags": []
   },
   "outputs": [],
   "source": [
    "# these imports should not require installation\n",
    "import json\n",
    "import string\n",
    "import random\n",
    "import subprocess\n"
   ]
  },
  {
   "cell_type": "markdown",
   "id": "c326be62-3bf6-4917-8e1d-b8e559bf2ab1",
   "metadata": {},
   "source": [
    "We will need the lcquad data as a DataFrame. You may need to change this file path."
   ]
  },
  {
   "cell_type": "code",
   "execution_count": 38,
   "id": "ca887cd9-6f19-4378-aed9-bfc714475700",
   "metadata": {},
   "outputs": [],
   "source": [
    "lcquad_filename = '../../lcquad2.0.train.json'\n",
    "lcquad_df = pd.read_json(lcquad_filename)"
   ]
  },
  {
   "cell_type": "markdown",
   "id": "965e5309-5c5b-478b-9ba3-57d8e8584981",
   "metadata": {},
   "source": [
    "### Set up the openai api key\n",
    "The api key is a secret and so should not be checked into github. This is what the ini file should look like:\n",
    "```\n",
    "[OPENAI]\n",
    "OPENAI_API_KEY=<openai key here>\n",
    "[WANDB]\n",
    "WANDB_API_KEY=<wandb key here>\n",
    "```\n",
    "Add your own api key there, or ask Max for his."
   ]
  },
  {
   "cell_type": "code",
   "execution_count": 102,
   "id": "7b41ffed-aa44-48c2-96ba-fdd1c20b7448",
   "metadata": {},
   "outputs": [
    {
     "data": {
      "text/plain": [
       "['secrets.ini']"
      ]
     },
     "execution_count": 102,
     "metadata": {},
     "output_type": "execute_result"
    }
   ],
   "source": [
    "import configparser\n",
    "config = configparser.ConfigParser()\n",
    "config.read('secrets.ini')"
   ]
  },
  {
   "cell_type": "code",
   "execution_count": 104,
   "id": "607e6281-030f-4187-a969-bbc4f58ac1ea",
   "metadata": {},
   "outputs": [],
   "source": [
    "import os\n",
    "os.environ.update({'OPENAI_API_KEY': config['OPENAI']['OPENAI_API_KEY']})"
   ]
  },
  {
   "cell_type": "markdown",
   "id": "ebff0f13-1655-4436-a7d5-b22c0d37bb98",
   "metadata": {},
   "source": [
    "### Sanity check: openai's tutorial example\n",
    "This is here just to validate that the api setup is working"
   ]
  },
  {
   "cell_type": "code",
   "execution_count": 16,
   "id": "e93c2691-a8bb-4435-879a-ac4f6581691c",
   "metadata": {},
   "outputs": [],
   "source": [
    "def generate_prompt(animal):\n",
    "    return \"\"\"Suggest three names for an animal that is a superhero.\n",
    "\n",
    "Animal: Cat\n",
    "Names: Captain Sharpclaw, Agent Fluffball, The Incredible Feline\n",
    "Animal: Dog\n",
    "Names: Ruff the Protector, Wonder Canine, Sir Barks-a-Lot\n",
    "Animal: {}\n",
    "Names:\"\"\".format(\n",
    "        animal.capitalize()\n",
    "    )\n"
   ]
  },
  {
   "cell_type": "code",
   "execution_count": 130,
   "id": "bed141c9-97a8-4937-ada0-de4df24ef29b",
   "metadata": {},
   "outputs": [],
   "source": [
    "def run_prompt(prompt=\"\", model=\"text-davinci-003\", temperature=0.6, stop=None):\n",
    "    response = openai.Completion.create(\n",
    "        model=model,\n",
    "        prompt=prompt,\n",
    "        temperature=temperature,\n",
    "        max_tokens=100,\n",
    "        stop=stop\n",
    "    )\n",
    "    return response"
   ]
  },
  {
   "cell_type": "code",
   "execution_count": 18,
   "id": "463c9b9c-5f1a-433a-8572-dfe84cac9bdb",
   "metadata": {},
   "outputs": [
    {
     "data": {
      "text/plain": [
       "' Super Moo-er, The Amazing Bovine, Mighty Hoofy'"
      ]
     },
     "execution_count": 18,
     "metadata": {},
     "output_type": "execute_result"
    }
   ],
   "source": [
    "response = run_prompt(generate_prompt('cow'))\n",
    "response['choices'][0]['text']"
   ]
  },
  {
   "cell_type": "markdown",
   "id": "977a0662-9a76-49e3-a433-d751d7c8fa76",
   "metadata": {},
   "source": [
    "### Sanity check: the openai CLI should be working as well\n",
    "Implant the key in the shell environment"
   ]
  },
  {
   "cell_type": "code",
   "execution_count": 106,
   "id": "be28c027-1c88-41ec-9042-df197c4c0250",
   "metadata": {},
   "outputs": [],
   "source": [
    "# Implant the openai key in the shell environment\n",
    "!eval `cat secrets.ini | grep OPENAI_API_KEY | sed 's/^/export /'`"
   ]
  },
  {
   "cell_type": "code",
   "execution_count": 40,
   "id": "95973385-394e-4b21-b6f3-9753aab68f70",
   "metadata": {
    "tags": []
   },
   "outputs": [
    {
     "name": "stdout",
     "output_type": "stream",
     "text": [
      "/opt/homebrew/anaconda3/envs/conda210/bin/openai\n"
     ]
    }
   ],
   "source": [
    "!which openai"
   ]
  },
  {
   "cell_type": "code",
   "execution_count": 41,
   "id": "f501c328-4a4e-429d-83b5-5273d663154e",
   "metadata": {
    "collapsed": true,
    "jupyter": {
     "outputs_hidden": true
    },
    "tags": []
   },
   "outputs": [
    {
     "name": "stdout",
     "output_type": "stream",
     "text": [
      "{\n",
      "  \"data\": [\n",
      "    {\n",
      "      \"created_at\": 1677959387,\n",
      "      \"fine_tuned_model\": \"ada:ft-personal-2023-03-04-20-06-30\",\n",
      "      \"hyperparams\": {\n",
      "        \"batch_size\": 1,\n",
      "        \"learning_rate_multiplier\": 0.1,\n",
      "        \"n_epochs\": 4,\n",
      "        \"prompt_loss_weight\": 0.01\n",
      "      },\n",
      "      \"id\": \"ft-90O7QVVHQ86vwYsLsRe3lFbZ\",\n",
      "      \"model\": \"ada\",\n",
      "      \"object\": \"fine-tune\",\n",
      "      \"organization_id\": \"org-6Tm9wvTU2DAyCUVamArcvPxV\",\n",
      "      \"result_files\": [\n",
      "        {\n",
      "          \"bytes\": 43024,\n",
      "          \"created_at\": 1677960391,\n",
      "          \"filename\": \"compiled_results.csv\",\n",
      "          \"id\": \"file-xZCujiVRhZnleRx5KowmvYt7\",\n",
      "          \"object\": \"file\",\n",
      "          \"purpose\": \"fine-tune-results\",\n",
      "          \"status\": \"processed\",\n",
      "          \"status_details\": null\n",
      "        }\n",
      "      ],\n",
      "      \"status\": \"succeeded\",\n",
      "      \"training_files\": [\n",
      "        {\n",
      "          \"bytes\": 37497,\n",
      "          \"created_at\": 1677959386,\n",
      "          \"filename\": \"openai_train.jsonl\",\n",
      "          \"id\": \"file-PtdM8l5yCZybCnRknRIFCIiv\",\n",
      "          \"object\": \"file\",\n",
      "          \"purpose\": \"fine-tune\",\n",
      "          \"status\": \"processed\",\n",
      "          \"status_details\": null\n",
      "        }\n",
      "      ],\n",
      "      \"updated_at\": 1677960391,\n",
      "      \"validation_files\": []\n",
      "    },\n",
      "    {\n",
      "      \"created_at\": 1677963101,\n",
      "      \"fine_tuned_model\": \"ada:ft-personal-2023-03-04-21-11-21\",\n",
      "      \"hyperparams\": {\n",
      "        \"batch_size\": 1,\n",
      "        \"learning_rate_multiplier\": 0.1,\n",
      "        \"n_epochs\": 4,\n",
      "        \"prompt_loss_weight\": 0.01\n",
      "      },\n",
      "      \"id\": \"ft-crVxoOxApdG6RYjTGmfgbOKs\",\n",
      "      \"model\": \"ada:ft-personal-2023-03-04-20-06-30\",\n",
      "      \"object\": \"fine-tune\",\n",
      "      \"organization_id\": \"org-6Tm9wvTU2DAyCUVamArcvPxV\",\n",
      "      \"result_files\": [\n",
      "        {\n",
      "          \"bytes\": 87936,\n",
      "          \"created_at\": 1677964281,\n",
      "          \"filename\": \"compiled_results.csv\",\n",
      "          \"id\": \"file-1uvhik2o2oWUGvOPzU5LgabR\",\n",
      "          \"object\": \"file\",\n",
      "          \"purpose\": \"fine-tune-results\",\n",
      "          \"status\": \"processed\",\n",
      "          \"status_details\": null\n",
      "        }\n",
      "      ],\n",
      "      \"status\": \"succeeded\",\n",
      "      \"training_files\": [\n",
      "        {\n",
      "          \"bytes\": 78199,\n",
      "          \"created_at\": 1677963101,\n",
      "          \"filename\": \"openai_train_2.jsonl\",\n",
      "          \"id\": \"file-8ATX53TzUvTHFWmHRYFXUFWp\",\n",
      "          \"object\": \"file\",\n",
      "          \"purpose\": \"fine-tune\",\n",
      "          \"status\": \"processed\",\n",
      "          \"status_details\": null\n",
      "        }\n",
      "      ],\n",
      "      \"updated_at\": 1677964281,\n",
      "      \"validation_files\": []\n",
      "    },\n",
      "    {\n",
      "      \"created_at\": 1677981602,\n",
      "      \"fine_tuned_model\": \"curie:ft-personal-2023-03-05-02-23-24\",\n",
      "      \"hyperparams\": {\n",
      "        \"batch_size\": 2,\n",
      "        \"learning_rate_multiplier\": 0.1,\n",
      "        \"n_epochs\": 4,\n",
      "        \"prompt_loss_weight\": 0.01\n",
      "      },\n",
      "      \"id\": \"ft-sxhfek2JYFC1P0dc3qhNZdn5\",\n",
      "      \"model\": \"curie\",\n",
      "      \"object\": \"fine-tune\",\n",
      "      \"organization_id\": \"org-6Tm9wvTU2DAyCUVamArcvPxV\",\n",
      "      \"result_files\": [\n",
      "        {\n",
      "          \"bytes\": 114090,\n",
      "          \"created_at\": 1677983004,\n",
      "          \"filename\": \"compiled_results.csv\",\n",
      "          \"id\": \"file-hvHP4fYjSbfPSaqHSk7kCXfK\",\n",
      "          \"object\": \"file\",\n",
      "          \"purpose\": \"fine-tune-results\",\n",
      "          \"status\": \"processed\",\n",
      "          \"status_details\": null\n",
      "        }\n",
      "      ],\n",
      "      \"status\": \"succeeded\",\n",
      "      \"training_files\": [\n",
      "        {\n",
      "          \"bytes\": 195124,\n",
      "          \"created_at\": 1677981601,\n",
      "          \"filename\": \"curie_train.jsonl\",\n",
      "          \"id\": \"file-zEbf5LEeMeu7qOG5qPJrZAtR\",\n",
      "          \"object\": \"file\",\n",
      "          \"purpose\": \"fine-tune\",\n",
      "          \"status\": \"processed\",\n",
      "          \"status_details\": null\n",
      "        }\n",
      "      ],\n",
      "      \"updated_at\": 1677983005,\n",
      "      \"validation_files\": []\n",
      "    }\n",
      "  ],\n",
      "  \"object\": \"list\"\n",
      "}\n"
     ]
    }
   ],
   "source": [
    "# this is a quick way to validate that the CLI is working\n",
    "!openai api fine_tunes.list"
   ]
  },
  {
   "cell_type": "markdown",
   "id": "3e3b298d-1a32-4760-81f9-94603f9c7aa7",
   "metadata": {},
   "source": [
    "## Fine-tuning\n",
    "Choose a base model"
   ]
  },
  {
   "cell_type": "code",
   "execution_count": 26,
   "id": "06f59c5c-b206-4ef9-93f0-b4ef021f8986",
   "metadata": {},
   "outputs": [],
   "source": [
    "base_model = 'ada'"
   ]
  },
  {
   "cell_type": "markdown",
   "id": "62da9a28-8c94-40b2-a723-653d59ea62c5",
   "metadata": {
    "tags": []
   },
   "source": [
    "Does the model know anything about sparql already?"
   ]
  },
  {
   "cell_type": "code",
   "execution_count": 22,
   "id": "8201967f-3afd-4709-a809-4c5138e6e649",
   "metadata": {
    "tags": []
   },
   "outputs": [
    {
     "data": {
      "text/plain": [
       "\" that works in the sample query above. Please provide a sample query that works in the sample query above.\\n\\nPlease provide sample query that doesn't work in the sample query above.\\n\\nPlease provide sample query that doesn't work in the sample\""
      ]
     },
     "execution_count": 22,
     "metadata": {},
     "output_type": "execute_result"
    }
   ],
   "source": [
    "response = run_prompt(\"Please show me a sample sparql query\", model=base_model)\n",
    "response['choices'][0]['text']"
   ]
  },
  {
   "cell_type": "code",
   "execution_count": 27,
   "id": "a69fb49a-3bec-46bd-81f3-421e31c5e04a",
   "metadata": {},
   "outputs": [
    {
     "data": {
      "text/plain": [
       "\"\\n\\nQueries are basically a way to extract information from a database in a way that I can't do in the database.\\n\\nFor example, I have a database of records that contain a list of people in a particular city. I want\""
      ]
     },
     "execution_count": 27,
     "metadata": {},
     "output_type": "execute_result"
    }
   ],
   "source": [
    "response = run_prompt(\"What does a sparql query do?\", model=base_model)\n",
    "response['choices'][0]['text']"
   ]
  },
  {
   "cell_type": "code",
   "execution_count": 28,
   "id": "a05d0834-de5c-406b-b550-8b9cf116ce72",
   "metadata": {},
   "outputs": [
    {
     "data": {
      "text/plain": [
       "\"\\n\\n\\n\\n(4/4)\\n\\nsparql: 'What is Delta Air Line's periodical literature mouthpiece?'\\n\\n\\n\\n(4/4)\\n\\nsparql: 'What is Delta Air Line's periodical\""
      ]
     },
     "execution_count": 28,
     "metadata": {},
     "output_type": "execute_result"
    }
   ],
   "source": [
    "response = run_prompt(\"Please translate this question to sparql: 'What is Delta Air Line's periodical literature mouthpiece'\", model=base_model)\n",
    "response['choices'][0]['text']"
   ]
  },
  {
   "cell_type": "markdown",
   "id": "137b4ed3-a673-4f6d-a1d0-aaf22fde640e",
   "metadata": {},
   "source": [
    "Openai wants fine-tune data in a certain format. See https://platform.openai.com/docs/guides/fine-tuning/prepare-training-data.\n",
    "This script prepares lcquad data. Note that the script prefers the \"paraphrased\" question. This is something we could play with."
   ]
  },
  {
   "cell_type": "code",
   "execution_count": 42,
   "id": "7ebcbfa7-5ec7-4392-8daa-6eeb3bd3ffb6",
   "metadata": {},
   "outputs": [],
   "source": [
    "def make_finetune_data(df, filename=None):\n",
    "    training_json = []\n",
    "    for index, row in df.iterrows():\n",
    "        d = {}\n",
    "        question = row['paraphrased_question']\n",
    "        if len(question) == 0 or len(question) > 2048:\n",
    "            question = row['question']\n",
    "        d['prompt'] = f\"{question} ->\"\n",
    "        d['completion'] = f\" {row['sparql_wikidata']} \\n\"\n",
    "        training_json.append(json.dumps(d))\n",
    "    if filename is None:\n",
    "        return training_json\n",
    "    with open(filename, 'w') as f:\n",
    "        for l in training_json:\n",
    "            f.write(l + '\\n')   "
   ]
  },
  {
   "cell_type": "markdown",
   "id": "7600c72a-06e6-4ff7-b772-bac406338b86",
   "metadata": {},
   "source": [
    "Play with it a bit to see that it's working"
   ]
  },
  {
   "cell_type": "code",
   "execution_count": 45,
   "id": "988da926-2aa0-4a74-98a7-e0c437312cf8",
   "metadata": {},
   "outputs": [],
   "source": [
    "training_json = make_finetune_data(lcquad_df[0:9])"
   ]
  },
  {
   "cell_type": "code",
   "execution_count": 46,
   "id": "8bd7bc66-c15c-448a-94f8-755e906fdd93",
   "metadata": {},
   "outputs": [
    {
     "data": {
      "text/plain": [
       "['{\"prompt\": \"What is Delta Air Line\\'s periodical literature mouthpiece? ->\", \"completion\": \"  select distinct ?obj where { wd:Q188920 wdt:P2813 ?obj . ?obj wdt:P31 wd:Q1002697 }  \\\\n\"}',\n",
       " '{\"prompt\": \"What is the name of Ranavalona I\\'s husband\\'s child? ->\", \"completion\": \" SELECT ?answer WHERE { wd:Q169794 wdt:P26 ?X . ?X wdt:P22 ?answer} \\\\n\"}',\n",
       " '{\"prompt\": \"Are Jeff Bridges and Lane Chandler both photographers? ->\", \"completion\": \" ASK WHERE { wd:Q174843 wdt:P106 wd:Q1804811 . wd:Q174843 wdt:P106 wd:Q33231 } \\\\n\"}',\n",
       " '{\"prompt\": \"What range are the papers at the Monique Genonceaux about? ->\", \"completion\": \" SELECT ?answer WHERE { wd:Q675176 wdt:P515 ?X . ?X wdt:P156 ?answer} \\\\n\"}',\n",
       " '{\"prompt\": \"Which is the operating income for Qantas? ->\", \"completion\": \" select distinct ?answer where { wd:Q32491 wdt:P3362 ?answer} \\\\n\"}']"
      ]
     },
     "execution_count": 46,
     "metadata": {},
     "output_type": "execute_result"
    }
   ],
   "source": [
    "training_json[0:5]"
   ]
  },
  {
   "cell_type": "markdown",
   "id": "4b7b8191-d20f-4217-88b9-44b6f6f9613c",
   "metadata": {},
   "source": [
    "Now create a training file. Choose how many examples you want to start with."
   ]
  },
  {
   "cell_type": "code",
   "execution_count": 47,
   "id": "13c5f324-6ac4-4041-b333-d50ff7c540df",
   "metadata": {},
   "outputs": [],
   "source": [
    "sample_size = 200"
   ]
  },
  {
   "cell_type": "code",
   "execution_count": 55,
   "id": "2398b15d-920b-448b-9eca-e437e0e5005f",
   "metadata": {},
   "outputs": [],
   "source": [
    "def random_train_file_name(N=5):\n",
    "    random_s = ''.join(random.choices(string.ascii_uppercase + string.digits, k=N))    \n",
    "    return f'openai_train_{random_s}.jsonl'"
   ]
  },
  {
   "cell_type": "code",
   "execution_count": 56,
   "id": "66c33651-7da3-4c84-9347-9723c7f209ee",
   "metadata": {},
   "outputs": [],
   "source": [
    "train_file_name = random_train_file_name()"
   ]
  },
  {
   "cell_type": "code",
   "execution_count": 59,
   "id": "b3ee9f50-975e-4ee3-a9ae-cb729444161d",
   "metadata": {},
   "outputs": [],
   "source": [
    "make_finetune_data(lcquad_df.iloc[0:sample_size], filename=train_file_name)"
   ]
  },
  {
   "cell_type": "markdown",
   "id": "5a2c3ae3-22a2-475a-aaf6-776115d0868b",
   "metadata": {},
   "source": [
    "We hope that this call simply asserts that everything looks good - it should not prompt. If it prompts, it will crash because \n",
    "we're taking input from /dev/null. If you see a crash, try running this command in a shell, without the /dev/null prompt."
   ]
  },
  {
   "cell_type": "code",
   "execution_count": 61,
   "id": "5c204e03-3f97-4a2b-a474-4c8bb9730aec",
   "metadata": {},
   "outputs": [
    {
     "name": "stdout",
     "output_type": "stream",
     "text": [
      "Analyzing...\n",
      "\n",
      "- Your file contains 200 prompt-completion pairs\n",
      "- All prompts end with suffix ` ->`\n",
      "- All completions end with suffix ` \\n`\n",
      "\n",
      "No remediations found.\n",
      "\n",
      "You can use your file for fine-tuning:\n",
      "> openai api fine_tunes.create -t \"openai_train_SZ3K1.jsonl\"\n",
      "\n",
      "After you’ve fine-tuned a model, remember that your prompt has to end with the indicator string ` ->` for the model to start generating completions, rather than continuing with the prompt. Make sure to include `stop=[\" \\n\"]` so that the generated texts ends at the expected place.\n",
      "Once your model starts training, it'll approximately take 5.19 minutes to train a `curie` model, and less for `ada` and `babbage`. Queue will approximately take half an hour per job ahead of you.\n"
     ]
    }
   ],
   "source": [
    "!openai tools fine_tunes.prepare_data -f {train_file_name} < /dev/null"
   ]
  },
  {
   "cell_type": "markdown",
   "id": "3cf3431a-a784-4009-bcc5-55b8eb06aeb5",
   "metadata": {},
   "source": [
    "Now we create the training run. Note that many more hyperparameters can be specified. See https://platform.openai.com/docs/guides/fine-tuning/hyperparameters"
   ]
  },
  {
   "cell_type": "markdown",
   "id": "c417c650-bfe2-44c3-8d8f-107f8c66c108",
   "metadata": {},
   "source": [
    "### Create the fine-tuning run\n",
    "In principal, this command creates the job and streams back the messages. In practice, I always see `Stream interrupted (client disconnected)` when I run it in a jupyter notebook."
   ]
  },
  {
   "cell_type": "code",
   "execution_count": 63,
   "id": "ee2cf14f-348c-4883-9382-dc9974bb45e2",
   "metadata": {},
   "outputs": [
    {
     "name": "stdout",
     "output_type": "stream",
     "text": [
      "Upload progress: 100%|████████████████████| 38.8k/38.8k [00:00<00:00, 24.2Mit/s]\n",
      "Uploaded file from openai_train_SZ3K1.jsonl: file-wLPJKzEDfq1u4DupT7D0PDxH\n",
      "Created fine-tune: ft-iCN2sLZ7X207KdKTZGhXwGNo\n",
      "Streaming events until fine-tuning is complete...\n",
      "\n",
      "(Ctrl-C will interrupt the stream, but not cancel the fine-tune)\n",
      "[2023-03-05 11:33:42] Created fine-tune: ft-iCN2sLZ7X207KdKTZGhXwGNo\n",
      "\n",
      "Stream interrupted (client disconnected).\n",
      "To resume the stream, run:\n",
      "\n",
      "  openai api fine_tunes.follow -i ft-iCN2sLZ7X207KdKTZGhXwGNo\n",
      "\n"
     ]
    }
   ],
   "source": [
    "!openai api fine_tunes.create -t {train_file_name} -m {base_model} < /dev/null"
   ]
  },
  {
   "cell_type": "code",
   "execution_count": 75,
   "id": "a3404dd1-2f40-41c4-89fa-cbfb1258f000",
   "metadata": {},
   "outputs": [],
   "source": [
    "def get_last_run_id():\n",
    "    result = subprocess.run(['openai','api', 'fine_tunes.list'], stdout=subprocess.PIPE)\n",
    "    runs = json.loads(result.stdout)\n",
    "    last_run = runs['data'][-1]\n",
    "    run_id = fine_tuned_model = None\n",
    "    if 'id' in last_run:\n",
    "        run_id = last_run['id']\n",
    "    if 'fine_tuned_model' in last_run:\n",
    "        fine_tuned_model = last_run['fine_tuned_model']  \n",
    "    return run_id, fine_tuned_model"
   ]
  },
  {
   "cell_type": "code",
   "execution_count": 78,
   "id": "3739939f-3955-4c58-ade2-1976e0cfa9a2",
   "metadata": {},
   "outputs": [
    {
     "data": {
      "text/plain": [
       "('ft-iCN2sLZ7X207KdKTZGhXwGNo', 'ada:ft-personal-2023-03-05-19-39-25')"
      ]
     },
     "execution_count": 78,
     "metadata": {},
     "output_type": "execute_result"
    }
   ],
   "source": [
    "last_run, fine_tuned_model = get_last_run_id()\n",
    "last_run, fine_tuned_model"
   ]
  },
  {
   "cell_type": "markdown",
   "id": "f0282619-0adf-48c7-828c-f46a501a7d7c",
   "metadata": {},
   "source": [
    "Again, this command in principal streams all messages until completion, but in practice, also times out.\n",
    "\n",
    "So run this cell over and over until you see \"Status: succeeded 🎉\""
   ]
  },
  {
   "cell_type": "code",
   "execution_count": 74,
   "id": "dcd9db0a-43d4-4fbd-87f8-2c3b0792ebed",
   "metadata": {},
   "outputs": [
    {
     "name": "stdout",
     "output_type": "stream",
     "text": [
      "[2023-03-05 11:33:42] Created fine-tune: ft-iCN2sLZ7X207KdKTZGhXwGNo\n",
      "[2023-03-05 11:36:53] Fine-tune costs $0.02\n",
      "[2023-03-05 11:36:53] Fine-tune enqueued. Queue number: 0\n",
      "[2023-03-05 11:36:54] Fine-tune started\n",
      "[2023-03-05 11:37:36] Completed epoch 1/4\n",
      "[2023-03-05 11:38:05] Completed epoch 2/4\n",
      "[2023-03-05 11:38:34] Completed epoch 3/4\n",
      "[2023-03-05 11:39:03] Completed epoch 4/4\n",
      "[2023-03-05 11:39:26] Uploaded model: ada:ft-personal-2023-03-05-19-39-25\n",
      "[2023-03-05 11:39:26] Uploaded result file: file-7UXK6O1KZZzvkzsMEqzAAU8Q\n",
      "[2023-03-05 11:39:26] Fine-tune succeeded\n",
      "\n",
      "Job complete! Status: succeeded 🎉\n",
      "Try out your fine-tuned model:\n",
      "\n",
      "openai api completions.create -m ada:ft-personal-2023-03-05-19-39-25 -p <YOUR_PROMPT>\n"
     ]
    }
   ],
   "source": [
    "!openai api fine_tunes.follow -i {last_run} "
   ]
  },
  {
   "cell_type": "markdown",
   "id": "3e66c296-107b-42bf-9a00-9de7dd54c5c5",
   "metadata": {},
   "source": [
    "Get the fine-tuned model name. Make sure it's not None."
   ]
  },
  {
   "cell_type": "code",
   "execution_count": 79,
   "id": "04b88200-c0da-4499-a6d7-145cfb2e1d20",
   "metadata": {},
   "outputs": [
    {
     "data": {
      "text/plain": [
       "('ft-iCN2sLZ7X207KdKTZGhXwGNo', 'ada:ft-personal-2023-03-05-19-39-25')"
      ]
     },
     "execution_count": 79,
     "metadata": {},
     "output_type": "execute_result"
    }
   ],
   "source": [
    "last_run, fine_tuned_model = get_last_run_id()\n",
    "last_run, fine_tuned_model"
   ]
  },
  {
   "cell_type": "markdown",
   "id": "06b1f947-c890-4590-86f2-049cfcaa67a3",
   "metadata": {},
   "source": [
    "Take a look at a few questions"
   ]
  },
  {
   "cell_type": "code",
   "execution_count": 124,
   "id": "a190a06c-d141-4f14-9579-f714ec4f7c4a",
   "metadata": {},
   "outputs": [
    {
     "data": {
      "text/plain": [
       "'  select distinct ?obj where { wd:Q206897 wdt:P108 ?obj . ?obj wdt:P31 wd:Q284047 } '"
      ]
     },
     "execution_count": 124,
     "metadata": {},
     "output_type": "execute_result"
    }
   ],
   "source": [
    "response = run_prompt(\"What is Delta Air Line's periodical literature mouthpiece? ->\", \n",
    "                      model=fine_tuned_model, stop=[\" \\n\"])\n",
    "response['choices'][0]['text']"
   ]
  },
  {
   "cell_type": "code",
   "execution_count": 83,
   "id": "f9a945cb-55e7-4036-80d4-b00cd4279c7f",
   "metadata": {},
   "outputs": [
    {
     "data": {
      "text/plain": [
       "'What grant was gotten Mary Tyler Moore ?'"
      ]
     },
     "execution_count": 83,
     "metadata": {},
     "output_type": "execute_result"
    }
   ],
   "source": [
    "lcquad_df.iloc[sample_size+5]['paraphrased_question']"
   ]
  },
  {
   "cell_type": "code",
   "execution_count": 131,
   "id": "8ef9b7ba-b5c5-4cea-8fa5-eae2aedd3458",
   "metadata": {},
   "outputs": [
    {
     "data": {
      "text/plain": [
       "<OpenAIObject text_completion id=cmpl-6qqmO7fJ8aXZHBi1R8B3kBnLQFOcO at 0x13459d4f0> JSON: {\n",
       "  \"choices\": [\n",
       "    {\n",
       "      \"finish_reason\": \"stop\",\n",
       "      \"index\": 0,\n",
       "      \"logprobs\": null,\n",
       "      \"text\": \" SELECT ?obj WHERE { wd:Q429161 p:P166 ?s . ?s ps:P166 ?obj . ?s pq:P585 ?x filter(contains(YEAR(?x),'1962')) }\"\n",
       "    }\n",
       "  ],\n",
       "  \"created\": 1678053960,\n",
       "  \"id\": \"cmpl-6qqmO7fJ8aXZHBi1R8B3kBnLQFOcO\",\n",
       "  \"model\": \"ada:ft-personal-2023-03-05-21-03-15\",\n",
       "  \"object\": \"text_completion\",\n",
       "  \"usage\": {\n",
       "    \"completion_tokens\": 53,\n",
       "    \"prompt_tokens\": 9,\n",
       "    \"total_tokens\": 62\n",
       "  }\n",
       "}"
      ]
     },
     "execution_count": 131,
     "metadata": {},
     "output_type": "execute_result"
    }
   ],
   "source": [
    "response = run_prompt(f\"{lcquad_df.iloc[sample_size+5]['paraphrased_question']} ->\", \n",
    "                      model=fine_tuned_model, stop=[\" \\n\"])\n",
    "response['choices'][0]['text']\n",
    "response"
   ]
  },
  {
   "cell_type": "markdown",
   "id": "9398ca3d-6a49-48a9-85de-57ea1eddc43c",
   "metadata": {},
   "source": [
    "### Fine-tune further if you want\n",
    "You just do the same things as above, but specify the fine-tuned model name"
   ]
  },
  {
   "cell_type": "code",
   "execution_count": 88,
   "id": "0d6b46ad-dfcf-48e1-bac2-8c68934ef290",
   "metadata": {},
   "outputs": [],
   "source": [
    "next_sample_size = 1000"
   ]
  },
  {
   "cell_type": "code",
   "execution_count": 89,
   "id": "9077bf23-bdc9-4ad6-808a-16f8dd842f72",
   "metadata": {},
   "outputs": [],
   "source": [
    "next_train_file_name = random_train_file_name()"
   ]
  },
  {
   "cell_type": "code",
   "execution_count": 91,
   "id": "f9908abf-1a76-4dc0-a2cf-9f1d334746fe",
   "metadata": {},
   "outputs": [],
   "source": [
    "make_finetune_data(lcquad_df.iloc[sample_size:sample_size+next_sample_size], filename=next_train_file_name)"
   ]
  },
  {
   "cell_type": "code",
   "execution_count": 93,
   "id": "913c48d2-2a1f-423d-bce9-e6d593492cd3",
   "metadata": {},
   "outputs": [
    {
     "name": "stdout",
     "output_type": "stream",
     "text": [
      "Analyzing...\n",
      "\n",
      "- Your file contains 1000 prompt-completion pairs\n",
      "- All prompts end with suffix ` ->`\n",
      "- All completions end with suffix ` \\n`\n",
      "\n",
      "No remediations found.\n",
      "\n",
      "You can use your file for fine-tuning:\n",
      "> openai api fine_tunes.create -t \"openai_train_QDVLV.jsonl\"\n",
      "\n",
      "After you’ve fine-tuned a model, remember that your prompt has to end with the indicator string ` ->` for the model to start generating completions, rather than continuing with the prompt. Make sure to include `stop=[\" \\n\"]` so that the generated texts ends at the expected place.\n",
      "Once your model starts training, it'll approximately take 16.18 minutes to train a `curie` model, and less for `ada` and `babbage`. Queue will approximately take half an hour per job ahead of you.\n"
     ]
    }
   ],
   "source": [
    "!openai tools fine_tunes.prepare_data -f {next_train_file_name} < /dev/null"
   ]
  },
  {
   "cell_type": "markdown",
   "id": "cf2ca280-b480-451f-8270-cf32aa789ecc",
   "metadata": {},
   "source": [
    "#### Note: we're using the fine_tuned_model here"
   ]
  },
  {
   "cell_type": "code",
   "execution_count": 95,
   "id": "11fd4ef2-3d4f-4f84-b705-ebd8ab4eb834",
   "metadata": {},
   "outputs": [
    {
     "name": "stdout",
     "output_type": "stream",
     "text": [
      "Found potentially duplicated files with name 'openai_train_SZ3K1.jsonl', purpose 'fine-tune' and size 38794 bytes\n",
      "file-wLPJKzEDfq1u4DupT7D0PDxH\n",
      "Upload progress: 100%|████████████████████| 38.8k/38.8k [00:00<00:00, 19.3Mit/s]is file anyway: \n",
      "Uploaded file from openai_train_SZ3K1.jsonl: file-YTD6TqmbQ3ZBH1B5IZSRdJqo\n",
      "Created fine-tune: ft-x7hEyQMoafisWYGmadSSPLWA\n",
      "Streaming events until fine-tuning is complete...\n",
      "\n",
      "(Ctrl-C will interrupt the stream, but not cancel the fine-tune)\n",
      "[2023-03-05 12:53:14] Created fine-tune: ft-x7hEyQMoafisWYGmadSSPLWA\n",
      "\n",
      "Stream interrupted (client disconnected).\n",
      "To resume the stream, run:\n",
      "\n",
      "  openai api fine_tunes.follow -i ft-x7hEyQMoafisWYGmadSSPLWA\n",
      "\n"
     ]
    }
   ],
   "source": [
    "!openai api fine_tunes.create -t {train_file_name} -m {fine_tuned_model} < /dev/null"
   ]
  },
  {
   "cell_type": "code",
   "execution_count": 96,
   "id": "11fd76c8-1ef8-410e-95fa-e775fdf4ebe3",
   "metadata": {},
   "outputs": [
    {
     "data": {
      "text/plain": [
       "('ft-x7hEyQMoafisWYGmadSSPLWA', None)"
      ]
     },
     "execution_count": 96,
     "metadata": {},
     "output_type": "execute_result"
    }
   ],
   "source": [
    "last_run, fine_tuned_model = get_last_run_id()\n",
    "last_run, fine_tuned_model"
   ]
  },
  {
   "cell_type": "markdown",
   "id": "6d3ab045-dd58-45cc-a403-54f5d2436ac9",
   "metadata": {},
   "source": [
    "Again, run this cell until you see the success message"
   ]
  },
  {
   "cell_type": "code",
   "execution_count": 99,
   "id": "fac08ffc-de84-4895-a635-0c8d275a2eb9",
   "metadata": {},
   "outputs": [
    {
     "name": "stdout",
     "output_type": "stream",
     "text": [
      "[2023-03-05 12:53:14] Created fine-tune: ft-x7hEyQMoafisWYGmadSSPLWA\n",
      "[2023-03-05 12:58:23] Fine-tune costs $0.02\n",
      "[2023-03-05 12:58:23] Fine-tune enqueued. Queue number: 2\n",
      "[2023-03-05 12:58:27] Fine-tune is in the queue. Queue number: 1\n",
      "[2023-03-05 12:59:00] Fine-tune is in the queue. Queue number: 0\n",
      "[2023-03-05 13:00:23] Fine-tune started\n",
      "[2023-03-05 13:01:07] Completed epoch 1/4\n",
      "[2023-03-05 13:01:44] Completed epoch 2/4\n",
      "[2023-03-05 13:02:22] Completed epoch 3/4\n",
      "[2023-03-05 13:02:54] Completed epoch 4/4\n",
      "[2023-03-05 13:03:15] Uploaded model: ada:ft-personal-2023-03-05-21-03-15\n",
      "[2023-03-05 13:03:16] Uploaded result file: file-owhfEUuqduH3kiZ6G0ub7dBW\n",
      "[2023-03-05 13:03:16] Fine-tune succeeded\n",
      "\n",
      "Job complete! Status: succeeded 🎉\n",
      "Try out your fine-tuned model:\n",
      "\n",
      "openai api completions.create -m ada:ft-personal-2023-03-05-21-03-15 -p <YOUR_PROMPT>\n"
     ]
    }
   ],
   "source": [
    "!openai api fine_tunes.follow -i {last_run} < /dev/null"
   ]
  },
  {
   "cell_type": "markdown",
   "id": "c0a6f3a1-a717-4f2a-a3db-7cf80e67b9d9",
   "metadata": {},
   "source": [
    "Pick up the fine-tuned model name. Note: this model was trained from the previous fine-tuned model, but this one has a different, new name.\n",
    "Presumably, the previous fine-tunesd model is still around. I'm not sure how to delete them."
   ]
  },
  {
   "cell_type": "code",
   "execution_count": 100,
   "id": "17314c5c-4581-4aaa-9f8f-5070f987e77a",
   "metadata": {},
   "outputs": [
    {
     "data": {
      "text/plain": [
       "('ft-x7hEyQMoafisWYGmadSSPLWA', 'ada:ft-personal-2023-03-05-21-03-15')"
      ]
     },
     "execution_count": 100,
     "metadata": {},
     "output_type": "execute_result"
    }
   ],
   "source": [
    "last_run, fine_tuned_model = get_last_run_id()\n",
    "last_run, fine_tuned_model"
   ]
  },
  {
   "cell_type": "markdown",
   "id": "01b25378-6604-4292-b536-6c9697af890b",
   "metadata": {},
   "source": [
    "### Sync with wandb"
   ]
  },
  {
   "cell_type": "markdown",
   "id": "c78db76a-cdb0-4f7f-ab07-442fdcd41ddf",
   "metadata": {},
   "source": [
    "You may need a paid openai account for this to work."
   ]
  },
  {
   "cell_type": "code",
   "execution_count": 122,
   "id": "4c63d3a7-bd3e-422d-8c98-590942561cc5",
   "metadata": {},
   "outputs": [],
   "source": [
    "project_name = 'nl2sparql'"
   ]
  },
  {
   "cell_type": "code",
   "execution_count": 123,
   "id": "1de4dd1a-28f5-47c9-adb6-7b63cda73717",
   "metadata": {},
   "outputs": [
    {
     "name": "stdout",
     "output_type": "stream",
     "text": [
      "\u001b[34m\u001b[1mwandb\u001b[0m: Currently logged in as: \u001b[33mdaziff-berkeley\u001b[0m (\u001b[33maskwiki\u001b[0m). Use \u001b[1m`wandb login --relogin`\u001b[0m to force relogin\n",
      "No new successful fine-tunes were found\n",
      "🎉 wandb sync completed successfully\n"
     ]
    }
   ],
   "source": [
    "!WANDB_API_KEY=`cat secrets.ini | grep WANDB_API_KEY | sed 's/^WANDB_API_KEY=//'` openai wandb sync --project {project_name} < /dev/null"
   ]
  },
  {
   "cell_type": "markdown",
   "id": "2ed453bb-90c4-40d9-94a1-d5f54fc86e13",
   "metadata": {},
   "source": [
    "## Check syntactic correctness"
   ]
  },
  {
   "cell_type": "code",
   "execution_count": 132,
   "id": "d178cc5c-a5d3-488b-afa2-4f07bb2c8296",
   "metadata": {
    "tags": []
   },
   "outputs": [],
   "source": [
    "def generate_sparql(question, model='ada', stop=None):\n",
    "    response = run_prompt(f\"{question} ->\", model=model, stop=stop)\n",
    "    # print(response)\n",
    "    translation = response['choices'][0]['text']\n",
    "    # print(translation)\n",
    "    if translation is None or len(translation) == 0:\n",
    "        return None\n",
    "    # logging.info(f'sparql {translation}')\n",
    "    return translation\n"
   ]
  },
  {
   "cell_type": "code",
   "execution_count": 137,
   "id": "2ef96671-73f8-46ea-82c8-35d869f441f1",
   "metadata": {},
   "outputs": [
    {
     "data": {
      "text/plain": [
       "' SELECT ?answer WHERE { wd:Q510543 wdt:P1081 ?X . ?X wdt:P1042 ?answer}'"
      ]
     },
     "execution_count": 137,
     "metadata": {},
     "output_type": "execute_result"
    }
   ],
   "source": [
    "generate_sparql(\"What is the name of Bill Gate's mother?\", model=fine_tuned_model, stop=[\" \\n\"])"
   ]
  },
  {
   "cell_type": "code",
   "execution_count": 156,
   "id": "4263016d-6e47-46c9-99f0-7d89f1e488e5",
   "metadata": {},
   "outputs": [],
   "source": [
    "def generate_lots_of_sparql(l, generator=None):\n",
    "    result = []\n",
    "    count = 1\n",
    "    if generator is None:\n",
    "        generator = lambda s: generate_sparql(s)\n",
    "    for s in l:\n",
    "        if count % 10 == 0:\n",
    "            print(count)\n",
    "        result.append(generator(s))\n",
    "        count += 1\n",
    "    print(count-1)\n",
    "    return result\n"
   ]
  },
  {
   "cell_type": "code",
   "execution_count": 143,
   "id": "518c85d4-05b8-4ada-8db3-78ec8f3d06cc",
   "metadata": {},
   "outputs": [],
   "source": [
    "generator = lambda s: generate_sparql(s, model=fine_tuned_model, stop=[\" \\n\"])"
   ]
  },
  {
   "cell_type": "code",
   "execution_count": 144,
   "id": "728583a0-d976-4e9c-9d3c-f3aee8690225",
   "metadata": {},
   "outputs": [
    {
     "data": {
      "text/plain": [
       "' SELECT ?answer WHERE { wd:Q42949 wdt:P166 ?X . ?X wdt:P1546 ?answer}'"
      ]
     },
     "execution_count": 144,
     "metadata": {},
     "output_type": "execute_result"
    }
   ],
   "source": [
    "generator(\"What is the name of Bill Gate's mother?\")"
   ]
  },
  {
   "cell_type": "code",
   "execution_count": 146,
   "id": "22581ebd-3a83-4d0b-9627-5391a9f6e8b0",
   "metadata": {},
   "outputs": [
    {
     "name": "stdout",
     "output_type": "stream",
     "text": [
      "10\n"
     ]
    }
   ],
   "source": [
    "sparqls = generate_lots_of_sparql(lcquad_df[-10: -1]['question'], generator=generator)"
   ]
  },
  {
   "cell_type": "code",
   "execution_count": 147,
   "id": "e2303ee6-a7a7-4121-9980-ea1879635d94",
   "metadata": {},
   "outputs": [
    {
     "data": {
      "text/plain": [
       "[' SELECT ?value WHERE { wd:Q42159 p:P166 ?s . ?s ps:P166 wd:Q254075 . ?s pq:P585 ?value}',\n",
       " ' ASK WHERE { wd:Q20277 wdt:P2960 ?obj filter(?obj = 45.6) } ',\n",
       " '  select distinct ?obj where { wd:Q202785 wdt:P157 ?obj . ?obj wdt:P31 wd:Q1002657 } ',\n",
       " ' select ?ent where { ?ent wdt:P31 wd:Q2424 . ?ent wdt:P1079 ?obj . ?ent wdt:P25 wd:Q168070 } ORDER BY DESC(?obj)LIMIT 5 ',\n",
       " \" SELECT DISTINCT ?sbj ?sbj_label WHERE { ?sbj wdt:P31 wd:Q878593 . ?sbj rdfs:label ?sbj_label . FILTER(CONTAINS(lcase(?sbj_label), 's')) . FILTER (lang(?sbj_label) = 'en') } LIMIT 25 \",\n",
       " \" SELECT DISTINCT ?sbj ?sbj_label WHERE { ?sbj wdt:P31 wd:Q1439618 . ?sbj rdfs:label ?sbj_label . FILTER(STRSTARTS(lcase(?sbj_label), 'h')) . FILTER (lang(?sbj_label) = 'en') } LIMIT 25 \",\n",
       " \" SELECT ?value WHERE { wd:Q174600 p:P26 ?s . ?s ps:P26 ?x filter(contains(?x,'117.6')) . ?s pq:P26 ?value}\",\n",
       " ' select distinct ?answer where { wd:Q91291 wdt:P2819 ?answer}',\n",
       " \" SELECT ?answer WHERE { wd:Q2210156 wdt:P2250 ?answer . ?answer wdt:P2546 ?x FILTER(contains(?x,'Fantasy'))}\"]"
      ]
     },
     "execution_count": 147,
     "metadata": {},
     "output_type": "execute_result"
    }
   ],
   "source": [
    "sparqls"
   ]
  },
  {
   "cell_type": "code",
   "execution_count": 148,
   "id": "46a9c065-39f3-4862-b0fb-50e9529ecf2d",
   "metadata": {},
   "outputs": [],
   "source": [
    "from wikibaseintegrator import wbi_helpers\n",
    "from wikibaseintegrator.wbi_config import config as wbi_config\n",
    "import logging"
   ]
  },
  {
   "cell_type": "code",
   "execution_count": 149,
   "id": "710b6bcb-5e1c-449b-a22f-f80ed78c199f",
   "metadata": {},
   "outputs": [],
   "source": [
    "wbi_config['USER_AGENT'] = 'AskwikiBot/1.0 (https://www.wikidata.org/wiki/User:What_Tottles_Meant)'\n",
    "wbi_config['BACKOFF_MAX_TRIES'] = 1\n"
   ]
  },
  {
   "cell_type": "code",
   "execution_count": 150,
   "id": "9f71ac3d-26c9-43a9-97fd-e13731767bf0",
   "metadata": {},
   "outputs": [],
   "source": [
    "from requests.exceptions import HTTPError\n",
    "def run_sparql(query):\n",
    "    try:\n",
    "        results = wbi_helpers.execute_sparql_query(query)\n",
    "    except HTTPError as he:\n",
    "        logging.error(f'HTTPError {he}')\n",
    "        print(f\"failed query {query}\")\n",
    "        return None\n",
    "    # print(results)\n",
    "    if 'boolean' in results:\n",
    "        return pd.DataFrame([{'Boolean': results['boolean'] }])\n",
    "    jsonResult = [dict([(k, b[k]['value']) for k in b]) for b in results['results']['bindings']]\n",
    "    df = pd.DataFrame.from_dict(jsonResult)\n",
    "    return df\n"
   ]
  },
  {
   "cell_type": "code",
   "execution_count": 151,
   "id": "8ed0e78c-61e0-4421-85f3-d373110ab733",
   "metadata": {},
   "outputs": [],
   "source": [
    "def validate_queries(qs):\n",
    "    validation_results = []\n",
    "    count = 0\n",
    "    for q in qs:\n",
    "        # print(q)\n",
    "        df = run_sparql(q)\n",
    "        result_count = 0\n",
    "        if df is None:\n",
    "            run_result = 'Fail'\n",
    "            print(f\"Failed query number {count}\")\n",
    "        else:\n",
    "            run_result = 'Pass'\n",
    "            result_count = len(df)\n",
    "        validation_results.append((run_result, result_count))\n",
    "        count += 1\n",
    "    return validation_results "
   ]
  },
  {
   "cell_type": "code",
   "execution_count": 152,
   "id": "de5a08bd-cdc1-4a93-a188-c9acaff77b4a",
   "metadata": {},
   "outputs": [
    {
     "data": {
      "text/plain": [
       "[('Pass', 0),\n",
       " ('Pass', 1),\n",
       " ('Pass', 0),\n",
       " ('Pass', 0),\n",
       " ('Pass', 0),\n",
       " ('Pass', 0),\n",
       " ('Pass', 0),\n",
       " ('Pass', 0),\n",
       " ('Pass', 0)]"
      ]
     },
     "execution_count": 152,
     "metadata": {},
     "output_type": "execute_result"
    }
   ],
   "source": [
    "validate_queries(sparqls)"
   ]
  },
  {
   "cell_type": "code",
   "execution_count": 157,
   "id": "1b742579-180f-4832-935a-5163779a7d88",
   "metadata": {},
   "outputs": [
    {
     "name": "stdout",
     "output_type": "stream",
     "text": [
      "10\n",
      "10\n"
     ]
    }
   ],
   "source": [
    "sparqls = generate_lots_of_sparql(lcquad_df[0: 10]['question'], generator=generator)"
   ]
  },
  {
   "cell_type": "code",
   "execution_count": 158,
   "id": "5bd300c3-9ee6-4869-801f-33028223c1aa",
   "metadata": {},
   "outputs": [
    {
     "data": {
      "text/plain": [
       "[('Pass', 0),\n",
       " ('Pass', 0),\n",
       " ('Pass', 0),\n",
       " ('Pass', 0),\n",
       " ('Pass', 0),\n",
       " ('Pass', 0),\n",
       " ('Pass', 1),\n",
       " ('Pass', 0),\n",
       " ('Pass', 0),\n",
       " ('Pass', 0)]"
      ]
     },
     "execution_count": 158,
     "metadata": {},
     "output_type": "execute_result"
    }
   ],
   "source": [
    "validate_queries(sparqls)"
   ]
  },
  {
   "cell_type": "code",
   "execution_count": 159,
   "id": "132ae541-7cfa-4654-9ea8-705ed4917e15",
   "metadata": {},
   "outputs": [
    {
     "data": {
      "text/plain": [
       "[' SELECT ?answer WHERE { wd:Q868 wdt:P47 ?answer . ?answer wdt:P29 wd:Q107752}',\n",
       " ' SELECT ?answer WHERE { wd:Q93472 wdt:P166 ?X . ?X wdt:P1446 ?answer}',\n",
       " ' SELECT ?answer WHERE { wd:Q228344 wdt:P100 ?X . ?X wdt:P2294 ?answer}',\n",
       " ' select distinct ?answer where { wd:Q979 wdt:P4719 ?answer}',\n",
       " ' select distinct ?answer where { wd:Q2165 wdt:P2260 ?answer}',\n",
       " \" SELECT DISTINCT ?sbj ?sbj_label WHERE { ?sbj wdt:P31 wd:Q186979 . ?sbj rdfs:label ?sbj_label . FILTER(STRSTARTS(lcase(?sbj_label), 'p')) . FILTER (lang(?sbj_label) = 'en') } LIMIT 25 \",\n",
       " ' ASK WHERE { wd:Q139813 wdt:P2149 ?obj filter(?obj < 15.139813) } ',\n",
       " '  select distinct ?obj where { wd:Q737 wdt:P47 ?obj . ?obj wdt:P31 wd:Q367912 } ',\n",
       " ' select distinct ?answer where { wd:Q4235 wdt:P3691 ?answer}',\n",
       " ' SELECT ?answer WHERE { wd:Q242456 wdt:P119 ?X . ?X wdt:P802 ?answer}']"
      ]
     },
     "execution_count": 159,
     "metadata": {},
     "output_type": "execute_result"
    }
   ],
   "source": [
    "sparqls"
   ]
  },
  {
   "cell_type": "code",
   "execution_count": 161,
   "id": "a5579566-14ca-4cd8-9ce7-08337d57a3c5",
   "metadata": {},
   "outputs": [
    {
     "data": {
      "text/plain": [
       "0     select distinct ?obj where { wd:Q188920 wdt:P...\n",
       "1    SELECT ?answer WHERE { wd:Q169794 wdt:P26 ?X ....\n",
       "2    ASK WHERE { wd:Q174843 wdt:P106 wd:Q1804811 . ...\n",
       "3    SELECT ?answer WHERE { wd:Q675176 wdt:P515 ?X ...\n",
       "4    select distinct ?answer where { wd:Q32491 wdt:...\n",
       "5    SELECT DISTINCT ?sbj ?sbj_label WHERE { ?sbj w...\n",
       "6    ASK WHERE { wd:Q4180017 wdt:P6257 ?obj filter(...\n",
       "7     select distinct ?obj where { wd:Q202729 wdt:P...\n",
       "8    select distinct ?answer where { wd:Q235975 wdt...\n",
       "9    SELECT ?answer WHERE { wd:Q1356316 wdt:P156 ?X...\n",
       "Name: sparql_wikidata, dtype: object"
      ]
     },
     "execution_count": 161,
     "metadata": {},
     "output_type": "execute_result"
    }
   ],
   "source": [
    "lcquad_df[0:10]['sparql_wikidata']"
   ]
  },
  {
   "cell_type": "code",
   "execution_count": 162,
   "id": "c1504f4e-e748-4017-bfe6-bdde6a8d1e2d",
   "metadata": {},
   "outputs": [
    {
     "data": {
      "text/plain": [
       "[('Pass', 1),\n",
       " ('Pass', 1),\n",
       " ('Pass', 1),\n",
       " ('Pass', 0),\n",
       " ('Pass', 1),\n",
       " ('Pass', 0),\n",
       " ('Pass', 1),\n",
       " ('Pass', 0),\n",
       " ('Pass', 1),\n",
       " ('Pass', 1)]"
      ]
     },
     "execution_count": 162,
     "metadata": {},
     "output_type": "execute_result"
    }
   ],
   "source": [
    "validate_queries(lcquad_df[0:10]['sparql_wikidata'])"
   ]
  },
  {
   "cell_type": "code",
   "execution_count": 169,
   "id": "af8af267-a48a-4a9a-8845-af8af61fbf96",
   "metadata": {},
   "outputs": [
    {
     "data": {
      "text/plain": [
       "'Does malin 1 have a right ascension lower than 15.1398?'"
      ]
     },
     "execution_count": 169,
     "metadata": {},
     "output_type": "execute_result"
    }
   ],
   "source": [
    "lcquad_df.iloc[6]['paraphrased_question']"
   ]
  },
  {
   "cell_type": "code",
   "execution_count": 170,
   "id": "bcf01a64-c037-49c7-a8bc-fcadc9326c7d",
   "metadata": {},
   "outputs": [
    {
     "data": {
      "text/plain": [
       "'ASK WHERE { wd:Q4180017 wdt:P6257 ?obj filter(?obj < 15.1398) } '"
      ]
     },
     "execution_count": 170,
     "metadata": {},
     "output_type": "execute_result"
    }
   ],
   "source": [
    "lcquad_df.iloc[6]['sparql_wikidata']"
   ]
  },
  {
   "cell_type": "code",
   "execution_count": 168,
   "id": "8614cb98-0565-492f-9461-dc077e56c9c9",
   "metadata": {},
   "outputs": [
    {
     "data": {
      "text/plain": [
       "' ASK WHERE { wd:Q139813 wdt:P2149 ?obj filter(?obj < 15.139813) } '"
      ]
     },
     "execution_count": 168,
     "metadata": {},
     "output_type": "execute_result"
    }
   ],
   "source": [
    "sparqls[6]"
   ]
  },
  {
   "cell_type": "code",
   "execution_count": 165,
   "id": "0a0bcacf-4a10-4f2e-9737-5a068a0f2e96",
   "metadata": {},
   "outputs": [
    {
     "data": {
      "text/plain": [
       "NNQT_question           Does the {right ascension} of the {Malin 1} {l...\n",
       "uid                                                                 18423\n",
       "subgraph                                              boolean with filter\n",
       "template_index                                                        441\n",
       "question                Is the right ascension of malin 1 less than 15...\n",
       "sparql_wikidata         ASK WHERE { wd:Q4180017 wdt:P6257 ?obj filter(...\n",
       "sparql_dbpedia18        ASK { ?statement1 <http://www.w3.org/1999/02/2...\n",
       "template                            ASK ?sbj ?pred ?obj filter ?obj = num\n",
       "answer                                                                 []\n",
       "template_id                                                             3\n",
       "paraphrased_question    Does malin 1 have a right ascension lower than...\n",
       "Name: 6, dtype: object"
      ]
     },
     "execution_count": 165,
     "metadata": {},
     "output_type": "execute_result"
    }
   ],
   "source": [
    "lcquad_df.iloc[6]"
   ]
  },
  {
   "cell_type": "code",
   "execution_count": 167,
   "id": "a579aa12-1088-4b42-8872-d017d25d037e",
   "metadata": {},
   "outputs": [
    {
     "data": {
      "text/plain": [
       "'Does malin 1 have a right ascension lower than 15.1398?'"
      ]
     },
     "execution_count": 167,
     "metadata": {},
     "output_type": "execute_result"
    }
   ],
   "source": [
    "lcquad_df.iloc[6]['paraphrased_question']"
   ]
  },
  {
   "cell_type": "code",
   "execution_count": null,
   "id": "0749c8c1-caeb-4717-a453-0ed35fe488c2",
   "metadata": {},
   "outputs": [],
   "source": []
  }
 ],
 "metadata": {
  "kernelspec": {
   "display_name": "conda210",
   "language": "python",
   "name": "conda210"
  },
  "language_info": {
   "codemirror_mode": {
    "name": "ipython",
    "version": 3
   },
   "file_extension": ".py",
   "mimetype": "text/x-python",
   "name": "python",
   "nbconvert_exporter": "python",
   "pygments_lexer": "ipython3",
   "version": "3.9.16"
  }
 },
 "nbformat": 4,
 "nbformat_minor": 5
}
