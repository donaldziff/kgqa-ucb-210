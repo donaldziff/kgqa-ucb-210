{
 "cells": [
  {
   "cell_type": "markdown",
   "id": "c9213a4a",
   "metadata": {},
   "source": [
    "# Training Pipeline for Natural Language Question to SPARQL Query"
   ]
  },
  {
   "cell_type": "code",
   "execution_count": 1,
   "id": "99defb8e",
   "metadata": {},
   "outputs": [],
   "source": [
    "#!pip install transformers evaluate torch"
   ]
  },
  {
   "cell_type": "code",
   "execution_count": 2,
   "id": "5ccb0148",
   "metadata": {},
   "outputs": [],
   "source": [
    "#!pip install sacrebleu"
   ]
  },
  {
   "cell_type": "code",
   "execution_count": 3,
   "id": "cb30f1a6",
   "metadata": {},
   "outputs": [
    {
     "name": "stderr",
     "output_type": "stream",
     "text": [
      "/usr/lib/python3/dist-packages/requests/__init__.py:89: RequestsDependencyWarning: urllib3 (1.26.14) or chardet (3.0.4) doesn't match a supported version!\n",
      "  warnings.warn(\"urllib3 ({}) or chardet ({}) doesn't match a supported \"\n"
     ]
    }
   ],
   "source": [
    "import sys\n",
    "import os\n",
    "import time\n",
    "import re\n",
    "import random\n",
    "import evaluate\n",
    "\n",
    "from collections import Counter\n",
    "import numpy as np\n",
    "import pandas as pd\n",
    "import torch\n",
    "from transformers import AutoTokenizer, AutoModelForSeq2SeqLM, GPTJModel, DataCollatorForSeq2Seq, Seq2SeqTrainingArguments, Seq2SeqTrainer, pipeline\n",
    "from sklearn.model_selection import train_test_split, KFold, StratifiedKFold, cross_val_score\n",
    "import sklearn.metrics as metric\n",
    "\n",
    "from datasets import load_dataset, Dataset"
   ]
  },
  {
   "cell_type": "markdown",
   "id": "250ffd5a",
   "metadata": {},
   "source": [
    "## Select Model"
   ]
  },
  {
   "cell_type": "code",
   "execution_count": 4,
   "id": "44b2cc68",
   "metadata": {},
   "outputs": [
    {
     "name": "stderr",
     "output_type": "stream",
     "text": [
      "/home/jstil/.local/lib/python3.10/site-packages/transformers/models/t5/tokenization_t5_fast.py:156: FutureWarning: This tokenizer was incorrectly instantiated with a model max length of 512 which will be corrected in Transformers v5.\n",
      "For now, this behavior is kept to avoid breaking backwards compatibility when padding/encoding with `truncation is True`.\n",
      "- Be aware that you SHOULD NOT rely on t5-small automatically truncating your input to 512 when padding/encoding.\n",
      "- If you want to encode/pad to sequences longer than 512 you can either instantiate this tokenizer with `model_max_length` or pass `max_length` when encoding/padding.\n",
      "- To avoid this warning, please instantiate this tokenizer with `model_max_length` set to your preferred value.\n",
      "  warnings.warn(\n"
     ]
    }
   ],
   "source": [
    "selection = \"t5-small\"\n",
    "tokenizer = AutoTokenizer.from_pretrained(selection)\n",
    "if selection==\"t5-small\":\n",
    "    model = AutoModelForSeq2SeqLM.from_pretrained(\"t5-small\")\n",
    "elif selection==\"yazdipour/text-to-sparql-t5-base\":\n",
    "    model = AutoModelForSeq2SeqLM.from_pretrained(\"yazdipour/text-to-sparql-t5-base\")\n",
    "else:\n",
    "    model = GPTJModel.from_pretrained(\"hf-internal-testing/tiny-random-gptj\")"
   ]
  },
  {
   "cell_type": "markdown",
   "id": "58fc6110",
   "metadata": {},
   "source": [
    "## Configure Environment"
   ]
  },
  {
   "cell_type": "code",
   "execution_count": 5,
   "id": "540c70d6",
   "metadata": {},
   "outputs": [],
   "source": [
    "# set seed\n",
    "random.seed(0)\n",
    "np.random.seed(0)"
   ]
  },
  {
   "cell_type": "markdown",
   "id": "5498a319",
   "metadata": {},
   "source": [
    "## Import Data"
   ]
  },
  {
   "cell_type": "code",
   "execution_count": 6,
   "id": "88107ea4",
   "metadata": {},
   "outputs": [
    {
     "name": "stderr",
     "output_type": "stream",
     "text": [
      "Found cached dataset lc_quad (/home/jstil/.cache/huggingface/datasets/lc_quad/default/2.0.0/139ee1f12aca006669dcc1f282ec02e126c69e7595453db443ab022643d54086)\n"
     ]
    },
    {
     "data": {
      "application/vnd.jupyter.widget-view+json": {
       "model_id": "861a73a17c4a4cdf8784de7b9b857e80",
       "version_major": 2,
       "version_minor": 0
      },
      "text/plain": [
       "  0%|          | 0/2 [00:00<?, ?it/s]"
      ]
     },
     "metadata": {},
     "output_type": "display_data"
    }
   ],
   "source": [
    "dataset = load_dataset(\"lc_quad\")\n",
    "\n",
    "train = dataset[\"train\"].to_pandas()\n",
    "train = train.dropna(subset=['question', 'sparql_wikidata'])\n",
    "train = Dataset.from_pandas(train)\n",
    "train = train.train_test_split(test_size=0.2)\n",
    "\n",
    "\n",
    "# test = dataset[\"test\"].to_pandas()\n",
    "# test = test.dropna(subset=['question', 'sparql_wikidata'])\n",
    "# test = Dataset.from_pandas(test)"
   ]
  },
  {
   "cell_type": "markdown",
   "id": "ca1f38c2",
   "metadata": {},
   "source": [
    "## Preprocess Data"
   ]
  },
  {
   "cell_type": "code",
   "execution_count": 7,
   "id": "51f83a75",
   "metadata": {},
   "outputs": [],
   "source": [
    "X = \"question\"\n",
    "Y = \"sparql_wikidata\"\n",
    "prefix = \"translate English to SPARQL: \"\n",
    "sacrebleu = evaluate.load(\"sacrebleu\")"
   ]
  },
  {
   "cell_type": "code",
   "execution_count": 8,
   "id": "31cfc1fb",
   "metadata": {},
   "outputs": [
    {
     "data": {
      "application/vnd.jupyter.widget-view+json": {
       "model_id": "083b330e60594154b97b7eeacf89e05f",
       "version_major": 2,
       "version_minor": 0
      },
      "text/plain": [
       "  0%|          | 0/16 [00:00<?, ?ba/s]"
      ]
     },
     "metadata": {},
     "output_type": "display_data"
    },
    {
     "data": {
      "application/vnd.jupyter.widget-view+json": {
       "model_id": "4abcd96637d3461f834d37625077b61a",
       "version_major": 2,
       "version_minor": 0
      },
      "text/plain": [
       "  0%|          | 0/4 [00:00<?, ?ba/s]"
      ]
     },
     "metadata": {},
     "output_type": "display_data"
    }
   ],
   "source": [
    "def preprocess_function(examples):\n",
    "    inputs = [prefix + example for example in examples[X]]\n",
    "    targets = [example for example in examples[Y]]\n",
    "    model_inputs = tokenizer(inputs, text_target=targets, max_length=128, truncation=True)\n",
    "    return model_inputs\n",
    "\n",
    "tokenized_data = train.map(preprocess_function, batched=True)"
   ]
  },
  {
   "cell_type": "markdown",
   "id": "ebef91db",
   "metadata": {},
   "source": [
    "## Helper Functions"
   ]
  },
  {
   "cell_type": "code",
   "execution_count": 9,
   "id": "29676620",
   "metadata": {},
   "outputs": [],
   "source": [
    "def postprocess_text(preds, labels):\n",
    "    preds = [pred.strip() for pred in preds]\n",
    "    labels = [[label.strip()] for label in labels]\n",
    "\n",
    "    return preds, labels\n",
    "\n",
    "\n",
    "def compute_metrics(eval_preds):\n",
    "    preds, labels = eval_preds\n",
    "    if isinstance(preds, tuple):\n",
    "        preds = preds[0]\n",
    "    decoded_preds = tokenizer.batch_decode(preds, skip_special_tokens=True)\n",
    "\n",
    "    labels = np.where(labels != -100, labels, tokenizer.pad_token_id)\n",
    "    decoded_labels = tokenizer.batch_decode(labels, skip_special_tokens=True)\n",
    "\n",
    "    decoded_preds, decoded_labels = postprocess_text(decoded_preds, decoded_labels)\n",
    "\n",
    "    result = sacrebleu.compute(predictions=decoded_preds, references=decoded_labels)\n",
    "    result = {\"bleu\": result[\"score\"]}\n",
    "\n",
    "    prediction_lens = [np.count_nonzero(pred != tokenizer.pad_token_id) for pred in preds]\n",
    "    result[\"gen_len\"] = np.mean(prediction_lens)\n",
    "    result = {k: round(v, 4) for k, v in result.items()}\n",
    "    return result"
   ]
  },
  {
   "cell_type": "markdown",
   "id": "786ed3e4",
   "metadata": {},
   "source": [
    "## Training Pipeline"
   ]
  },
  {
   "cell_type": "code",
   "execution_count": 10,
   "id": "e1c19c85",
   "metadata": {},
   "outputs": [],
   "source": [
    "# Configure Pipeline\n",
    "shuffle = True\n",
    "\n",
    "# hyperparams\n",
    "buffer_size = 10000\n",
    "batch_size = 32\n",
    "epochs = 5\n",
    "learning_rate = 5e-5\n",
    "weight_decay=0.01\n",
    "params = f\"epochs={epochs}_lr={learning_rate}_wd={weight_decay}\""
   ]
  },
  {
   "cell_type": "code",
   "execution_count": 11,
   "id": "feb26d25",
   "metadata": {},
   "outputs": [],
   "source": [
    "data_collator = DataCollatorForSeq2Seq(tokenizer=tokenizer, model=model)"
   ]
  },
  {
   "cell_type": "code",
   "execution_count": 12,
   "id": "e6badd91",
   "metadata": {
    "scrolled": true
   },
   "outputs": [
    {
     "name": "stdout",
     "output_type": "stream",
     "text": [
      "huggingface/tokenizers: The current process just got forked, after parallelism has already been used. Disabling parallelism to avoid deadlocks...\n",
      "To disable this warning, you can either:\n",
      "\t- Avoid using `tokenizers` before the fork if possible\n",
      "\t- Explicitly set the environment variable TOKENIZERS_PARALLELISM=(true | false)\n"
     ]
    },
    {
     "name": "stderr",
     "output_type": "stream",
     "text": [
      "Using cuda_amp half precision backend\n",
      "The following columns in the training set don't have a corresponding argument in `T5ForConditionalGeneration.forward` and have been ignored: subgraph, sparql_wikidata, sparql_dbpedia18, template_index, template, question, __index_level_0__, NNQT_question, paraphrased_question, uid. If subgraph, sparql_wikidata, sparql_dbpedia18, template_index, template, question, __index_level_0__, NNQT_question, paraphrased_question, uid are not expected by `T5ForConditionalGeneration.forward`,  you can safely ignore this message.\n",
      "/home/jstil/.local/lib/python3.10/site-packages/transformers/optimization.py:306: FutureWarning: This implementation of AdamW is deprecated and will be removed in a future version. Use the PyTorch implementation torch.optim.AdamW instead, or set `no_deprecation_warning=True` to disable this warning\n",
      "  warnings.warn(\n",
      "***** Running training *****\n",
      "  Num examples = 15433\n",
      "  Num Epochs = 5\n",
      "  Instantaneous batch size per device = 32\n",
      "  Total train batch size (w. parallel, distributed & accumulation) = 32\n",
      "  Gradient Accumulation steps = 1\n",
      "  Total optimization steps = 2415\n",
      "You're using a T5TokenizerFast tokenizer. Please note that with a fast tokenizer, using the `__call__` method is faster than using a method to encode the text followed by a call to the `pad` method to get a padded encoding.\n"
     ]
    },
    {
     "data": {
      "text/html": [
       "\n",
       "    <div>\n",
       "      \n",
       "      <progress value='2415' max='2415' style='width:300px; height:20px; vertical-align: middle;'></progress>\n",
       "      [2415/2415 10:56, Epoch 5/5]\n",
       "    </div>\n",
       "    <table border=\"1\" class=\"dataframe\">\n",
       "  <thead>\n",
       " <tr style=\"text-align: left;\">\n",
       "      <th>Epoch</th>\n",
       "      <th>Training Loss</th>\n",
       "      <th>Validation Loss</th>\n",
       "      <th>Bleu</th>\n",
       "      <th>Gen Len</th>\n",
       "    </tr>\n",
       "  </thead>\n",
       "  <tbody>\n",
       "    <tr>\n",
       "      <td>1</td>\n",
       "      <td>No log</td>\n",
       "      <td>0.636715</td>\n",
       "      <td>2.494700</td>\n",
       "      <td>19.000000</td>\n",
       "    </tr>\n",
       "    <tr>\n",
       "      <td>2</td>\n",
       "      <td>1.420100</td>\n",
       "      <td>0.582108</td>\n",
       "      <td>3.440900</td>\n",
       "      <td>19.000000</td>\n",
       "    </tr>\n",
       "    <tr>\n",
       "      <td>3</td>\n",
       "      <td>0.690800</td>\n",
       "      <td>0.566394</td>\n",
       "      <td>3.614700</td>\n",
       "      <td>19.000000</td>\n",
       "    </tr>\n",
       "    <tr>\n",
       "      <td>4</td>\n",
       "      <td>0.631200</td>\n",
       "      <td>0.558675</td>\n",
       "      <td>3.734700</td>\n",
       "      <td>19.000000</td>\n",
       "    </tr>\n",
       "    <tr>\n",
       "      <td>5</td>\n",
       "      <td>0.607300</td>\n",
       "      <td>0.556748</td>\n",
       "      <td>3.771500</td>\n",
       "      <td>19.000000</td>\n",
       "    </tr>\n",
       "  </tbody>\n",
       "</table><p>"
      ],
      "text/plain": [
       "<IPython.core.display.HTML object>"
      ]
     },
     "metadata": {},
     "output_type": "display_data"
    },
    {
     "name": "stderr",
     "output_type": "stream",
     "text": [
      "The following columns in the evaluation set don't have a corresponding argument in `T5ForConditionalGeneration.forward` and have been ignored: subgraph, sparql_wikidata, sparql_dbpedia18, template_index, template, question, __index_level_0__, NNQT_question, paraphrased_question, uid. If subgraph, sparql_wikidata, sparql_dbpedia18, template_index, template, question, __index_level_0__, NNQT_question, paraphrased_question, uid are not expected by `T5ForConditionalGeneration.forward`,  you can safely ignore this message.\n",
      "***** Running Evaluation *****\n",
      "  Num examples = 3859\n",
      "  Batch size = 32\n",
      "Saving model checkpoint to results/t5-small_epochs=5_lr=5e-05_wd=0.01/checkpoint-500\n",
      "Configuration saved in results/t5-small_epochs=5_lr=5e-05_wd=0.01/checkpoint-500/config.json\n",
      "Model weights saved in results/t5-small_epochs=5_lr=5e-05_wd=0.01/checkpoint-500/pytorch_model.bin\n",
      "tokenizer config file saved in results/t5-small_epochs=5_lr=5e-05_wd=0.01/checkpoint-500/tokenizer_config.json\n",
      "Special tokens file saved in results/t5-small_epochs=5_lr=5e-05_wd=0.01/checkpoint-500/special_tokens_map.json\n",
      "Copy vocab file to results/t5-small_epochs=5_lr=5e-05_wd=0.01/checkpoint-500/spiece.model\n",
      "The following columns in the evaluation set don't have a corresponding argument in `T5ForConditionalGeneration.forward` and have been ignored: subgraph, sparql_wikidata, sparql_dbpedia18, template_index, template, question, __index_level_0__, NNQT_question, paraphrased_question, uid. If subgraph, sparql_wikidata, sparql_dbpedia18, template_index, template, question, __index_level_0__, NNQT_question, paraphrased_question, uid are not expected by `T5ForConditionalGeneration.forward`,  you can safely ignore this message.\n",
      "***** Running Evaluation *****\n",
      "  Num examples = 3859\n",
      "  Batch size = 32\n",
      "Saving model checkpoint to results/t5-small_epochs=5_lr=5e-05_wd=0.01/checkpoint-1000\n",
      "Configuration saved in results/t5-small_epochs=5_lr=5e-05_wd=0.01/checkpoint-1000/config.json\n",
      "Model weights saved in results/t5-small_epochs=5_lr=5e-05_wd=0.01/checkpoint-1000/pytorch_model.bin\n",
      "tokenizer config file saved in results/t5-small_epochs=5_lr=5e-05_wd=0.01/checkpoint-1000/tokenizer_config.json\n",
      "Special tokens file saved in results/t5-small_epochs=5_lr=5e-05_wd=0.01/checkpoint-1000/special_tokens_map.json\n",
      "Copy vocab file to results/t5-small_epochs=5_lr=5e-05_wd=0.01/checkpoint-1000/spiece.model\n",
      "The following columns in the evaluation set don't have a corresponding argument in `T5ForConditionalGeneration.forward` and have been ignored: subgraph, sparql_wikidata, sparql_dbpedia18, template_index, template, question, __index_level_0__, NNQT_question, paraphrased_question, uid. If subgraph, sparql_wikidata, sparql_dbpedia18, template_index, template, question, __index_level_0__, NNQT_question, paraphrased_question, uid are not expected by `T5ForConditionalGeneration.forward`,  you can safely ignore this message.\n",
      "***** Running Evaluation *****\n",
      "  Num examples = 3859\n",
      "  Batch size = 32\n",
      "Saving model checkpoint to results/t5-small_epochs=5_lr=5e-05_wd=0.01/checkpoint-1500\n",
      "Configuration saved in results/t5-small_epochs=5_lr=5e-05_wd=0.01/checkpoint-1500/config.json\n",
      "Model weights saved in results/t5-small_epochs=5_lr=5e-05_wd=0.01/checkpoint-1500/pytorch_model.bin\n",
      "tokenizer config file saved in results/t5-small_epochs=5_lr=5e-05_wd=0.01/checkpoint-1500/tokenizer_config.json\n",
      "Special tokens file saved in results/t5-small_epochs=5_lr=5e-05_wd=0.01/checkpoint-1500/special_tokens_map.json\n",
      "Copy vocab file to results/t5-small_epochs=5_lr=5e-05_wd=0.01/checkpoint-1500/spiece.model\n",
      "The following columns in the evaluation set don't have a corresponding argument in `T5ForConditionalGeneration.forward` and have been ignored: subgraph, sparql_wikidata, sparql_dbpedia18, template_index, template, question, __index_level_0__, NNQT_question, paraphrased_question, uid. If subgraph, sparql_wikidata, sparql_dbpedia18, template_index, template, question, __index_level_0__, NNQT_question, paraphrased_question, uid are not expected by `T5ForConditionalGeneration.forward`,  you can safely ignore this message.\n",
      "***** Running Evaluation *****\n",
      "  Num examples = 3859\n",
      "  Batch size = 32\n",
      "Saving model checkpoint to results/t5-small_epochs=5_lr=5e-05_wd=0.01/checkpoint-2000\n",
      "Configuration saved in results/t5-small_epochs=5_lr=5e-05_wd=0.01/checkpoint-2000/config.json\n",
      "Model weights saved in results/t5-small_epochs=5_lr=5e-05_wd=0.01/checkpoint-2000/pytorch_model.bin\n",
      "tokenizer config file saved in results/t5-small_epochs=5_lr=5e-05_wd=0.01/checkpoint-2000/tokenizer_config.json\n",
      "Special tokens file saved in results/t5-small_epochs=5_lr=5e-05_wd=0.01/checkpoint-2000/special_tokens_map.json\n",
      "Copy vocab file to results/t5-small_epochs=5_lr=5e-05_wd=0.01/checkpoint-2000/spiece.model\n",
      "Deleting older checkpoint [results/t5-small_epochs=5_lr=5e-05_wd=0.01/checkpoint-500] due to args.save_total_limit\n",
      "The following columns in the evaluation set don't have a corresponding argument in `T5ForConditionalGeneration.forward` and have been ignored: subgraph, sparql_wikidata, sparql_dbpedia18, template_index, template, question, __index_level_0__, NNQT_question, paraphrased_question, uid. If subgraph, sparql_wikidata, sparql_dbpedia18, template_index, template, question, __index_level_0__, NNQT_question, paraphrased_question, uid are not expected by `T5ForConditionalGeneration.forward`,  you can safely ignore this message.\n",
      "***** Running Evaluation *****\n",
      "  Num examples = 3859\n",
      "  Batch size = 32\n",
      "\n",
      "\n",
      "Training completed. Do not forget to share your model on huggingface.co/models =)\n",
      "\n",
      "\n"
     ]
    },
    {
     "data": {
      "text/plain": [
       "TrainOutput(global_step=2415, training_loss=0.7969982771152788, metrics={'train_runtime': 658.7982, 'train_samples_per_second': 117.13, 'train_steps_per_second': 3.666, 'total_flos': 933075456688128.0, 'train_loss': 0.7969982771152788, 'epoch': 5.0})"
      ]
     },
     "execution_count": 12,
     "metadata": {},
     "output_type": "execute_result"
    }
   ],
   "source": [
    "training_args = Seq2SeqTrainingArguments(\n",
    "    output_dir=f\"results/{selection}_{params}\",\n",
    "    evaluation_strategy=\"epoch\",\n",
    "    learning_rate=learning_rate,\n",
    "    per_device_train_batch_size=batch_size,\n",
    "    per_device_eval_batch_size=batch_size,\n",
    "    weight_decay=weight_decay,\n",
    "    save_total_limit=3,\n",
    "    num_train_epochs=epochs,\n",
    "    predict_with_generate=True,\n",
    "    fp16=True,\n",
    "    push_to_hub=False,\n",
    ")\n",
    "\n",
    "trainer = Seq2SeqTrainer(\n",
    "    model=model,\n",
    "    args=training_args,\n",
    "    train_dataset=tokenized_data[\"train\"],\n",
    "    eval_dataset=tokenized_data[\"test\"],\n",
    "    tokenizer=tokenizer,\n",
    "    data_collator=data_collator,\n",
    "    compute_metrics=compute_metrics,\n",
    ")\n",
    "\n",
    "trainer.train()"
   ]
  },
  {
   "cell_type": "markdown",
   "id": "977baa63",
   "metadata": {},
   "source": [
    "## Inference"
   ]
  },
  {
   "cell_type": "code",
   "execution_count": 13,
   "id": "fbfc3a80",
   "metadata": {},
   "outputs": [],
   "source": [
    "text = \"translate English to SPARQL: What are the most common types of liver infection\""
   ]
  },
  {
   "cell_type": "code",
   "execution_count": 19,
   "id": "18b36e27",
   "metadata": {},
   "outputs": [
    {
     "name": "stdout",
     "output_type": "stream",
     "text": [
      "results/t5-small_epochs=5_lr=5e-05_wd=0.01/checkpoint-2000\n"
     ]
    }
   ],
   "source": [
    "import os\n",
    "\n",
    "def all_subdirs_of(b='.'):\n",
    "    result = []\n",
    "    for d in os.listdir(b):\n",
    "        bd = os.path.join(b, d)\n",
    "        if os.path.isdir(bd): result.append(bd)\n",
    "    return result\n",
    "\n",
    "latest_dir = all_subdirs_of(f\"results/{selection}_{params}/\")[-1]\n",
    "print(latest_dir)"
   ]
  },
  {
   "cell_type": "code",
   "execution_count": 20,
   "id": "7500901e",
   "metadata": {},
   "outputs": [
    {
     "name": "stderr",
     "output_type": "stream",
     "text": [
      "loading configuration file results/t5-small_epochs=5_lr=5e-05_wd=0.01/checkpoint-2000/config.json\n",
      "Model config T5Config {\n",
      "  \"_name_or_path\": \"results/t5-small_epochs=5_lr=5e-05_wd=0.01/checkpoint-2000\",\n",
      "  \"architectures\": [\n",
      "    \"T5ForConditionalGeneration\"\n",
      "  ],\n",
      "  \"d_ff\": 2048,\n",
      "  \"d_kv\": 64,\n",
      "  \"d_model\": 512,\n",
      "  \"decoder_start_token_id\": 0,\n",
      "  \"dense_act_fn\": \"relu\",\n",
      "  \"dropout_rate\": 0.1,\n",
      "  \"eos_token_id\": 1,\n",
      "  \"feed_forward_proj\": \"relu\",\n",
      "  \"initializer_factor\": 1.0,\n",
      "  \"is_encoder_decoder\": true,\n",
      "  \"is_gated_act\": false,\n",
      "  \"layer_norm_epsilon\": 1e-06,\n",
      "  \"model_type\": \"t5\",\n",
      "  \"n_positions\": 512,\n",
      "  \"num_decoder_layers\": 6,\n",
      "  \"num_heads\": 8,\n",
      "  \"num_layers\": 6,\n",
      "  \"output_past\": true,\n",
      "  \"pad_token_id\": 0,\n",
      "  \"relative_attention_max_distance\": 128,\n",
      "  \"relative_attention_num_buckets\": 32,\n",
      "  \"task_specific_params\": {\n",
      "    \"summarization\": {\n",
      "      \"early_stopping\": true,\n",
      "      \"length_penalty\": 2.0,\n",
      "      \"max_length\": 200,\n",
      "      \"min_length\": 30,\n",
      "      \"no_repeat_ngram_size\": 3,\n",
      "      \"num_beams\": 4,\n",
      "      \"prefix\": \"summarize: \"\n",
      "    },\n",
      "    \"translation_en_to_de\": {\n",
      "      \"early_stopping\": true,\n",
      "      \"max_length\": 300,\n",
      "      \"num_beams\": 4,\n",
      "      \"prefix\": \"translate English to German: \"\n",
      "    },\n",
      "    \"translation_en_to_fr\": {\n",
      "      \"early_stopping\": true,\n",
      "      \"max_length\": 300,\n",
      "      \"num_beams\": 4,\n",
      "      \"prefix\": \"translate English to French: \"\n",
      "    },\n",
      "    \"translation_en_to_ro\": {\n",
      "      \"early_stopping\": true,\n",
      "      \"max_length\": 300,\n",
      "      \"num_beams\": 4,\n",
      "      \"prefix\": \"translate English to Romanian: \"\n",
      "    }\n",
      "  },\n",
      "  \"torch_dtype\": \"float32\",\n",
      "  \"transformers_version\": \"4.23.1\",\n",
      "  \"use_cache\": true,\n",
      "  \"vocab_size\": 32128\n",
      "}\n",
      "\n",
      "loading configuration file results/t5-small_epochs=5_lr=5e-05_wd=0.01/checkpoint-2000/config.json\n",
      "Model config T5Config {\n",
      "  \"_name_or_path\": \"results/t5-small_epochs=5_lr=5e-05_wd=0.01/checkpoint-2000\",\n",
      "  \"architectures\": [\n",
      "    \"T5ForConditionalGeneration\"\n",
      "  ],\n",
      "  \"d_ff\": 2048,\n",
      "  \"d_kv\": 64,\n",
      "  \"d_model\": 512,\n",
      "  \"decoder_start_token_id\": 0,\n",
      "  \"dense_act_fn\": \"relu\",\n",
      "  \"dropout_rate\": 0.1,\n",
      "  \"eos_token_id\": 1,\n",
      "  \"feed_forward_proj\": \"relu\",\n",
      "  \"initializer_factor\": 1.0,\n",
      "  \"is_encoder_decoder\": true,\n",
      "  \"is_gated_act\": false,\n",
      "  \"layer_norm_epsilon\": 1e-06,\n",
      "  \"model_type\": \"t5\",\n",
      "  \"n_positions\": 512,\n",
      "  \"num_decoder_layers\": 6,\n",
      "  \"num_heads\": 8,\n",
      "  \"num_layers\": 6,\n",
      "  \"output_past\": true,\n",
      "  \"pad_token_id\": 0,\n",
      "  \"relative_attention_max_distance\": 128,\n",
      "  \"relative_attention_num_buckets\": 32,\n",
      "  \"task_specific_params\": {\n",
      "    \"summarization\": {\n",
      "      \"early_stopping\": true,\n",
      "      \"length_penalty\": 2.0,\n",
      "      \"max_length\": 200,\n",
      "      \"min_length\": 30,\n",
      "      \"no_repeat_ngram_size\": 3,\n",
      "      \"num_beams\": 4,\n",
      "      \"prefix\": \"summarize: \"\n",
      "    },\n",
      "    \"translation_en_to_de\": {\n",
      "      \"early_stopping\": true,\n",
      "      \"max_length\": 300,\n",
      "      \"num_beams\": 4,\n",
      "      \"prefix\": \"translate English to German: \"\n",
      "    },\n",
      "    \"translation_en_to_fr\": {\n",
      "      \"early_stopping\": true,\n",
      "      \"max_length\": 300,\n",
      "      \"num_beams\": 4,\n",
      "      \"prefix\": \"translate English to French: \"\n",
      "    },\n",
      "    \"translation_en_to_ro\": {\n",
      "      \"early_stopping\": true,\n",
      "      \"max_length\": 300,\n",
      "      \"num_beams\": 4,\n",
      "      \"prefix\": \"translate English to Romanian: \"\n",
      "    }\n",
      "  },\n",
      "  \"torch_dtype\": \"float32\",\n",
      "  \"transformers_version\": \"4.23.1\",\n",
      "  \"use_cache\": true,\n",
      "  \"vocab_size\": 32128\n",
      "}\n",
      "\n",
      "loading weights file results/t5-small_epochs=5_lr=5e-05_wd=0.01/checkpoint-2000/pytorch_model.bin\n",
      "All model checkpoint weights were used when initializing T5ForConditionalGeneration.\n",
      "\n",
      "All the weights of T5ForConditionalGeneration were initialized from the model checkpoint at results/t5-small_epochs=5_lr=5e-05_wd=0.01/checkpoint-2000.\n",
      "If your task is similar to the task the model of the checkpoint was trained on, you can already use T5ForConditionalGeneration for predictions without further training.\n",
      "loading file spiece.model\n",
      "loading file tokenizer.json\n",
      "loading file added_tokens.json\n",
      "loading file special_tokens_map.json\n",
      "loading file tokenizer_config.json\n"
     ]
    }
   ],
   "source": [
    "translator = pipeline(\"translation\", model=f\"{latest_dir}\")"
   ]
  },
  {
   "cell_type": "code",
   "execution_count": 21,
   "id": "73a1c26e",
   "metadata": {},
   "outputs": [
    {
     "data": {
      "text/plain": [
       "[{'translation_text': \"SELECT DISTINCT ?sbj ?sbj_label WHERE  ?sbj wdt:P31 wd:Q5 . ?sbj rdfs:label ?sbj_label . FILTER(CONTAINS(lcase(?sbj_label), 'en')) . FILTER (lang(?sbj_label) = 'en')  LIMIT 25\"}]"
      ]
     },
     "execution_count": 21,
     "metadata": {},
     "output_type": "execute_result"
    }
   ],
   "source": [
    "translator(text)"
   ]
  },
  {
   "cell_type": "code",
   "execution_count": null,
   "id": "6be65eed",
   "metadata": {},
   "outputs": [],
   "source": []
  }
 ],
 "metadata": {
  "kernelspec": {
   "display_name": "Python 3 (ipykernel)",
   "language": "python",
   "name": "python3"
  },
  "language_info": {
   "codemirror_mode": {
    "name": "ipython",
    "version": 3
   },
   "file_extension": ".py",
   "mimetype": "text/x-python",
   "name": "python",
   "nbconvert_exporter": "python",
   "pygments_lexer": "ipython3",
   "version": "3.10.2"
  }
 },
 "nbformat": 4,
 "nbformat_minor": 5
}
